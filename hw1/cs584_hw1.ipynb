{
 "cells": [
  {
   "cell_type": "markdown",
   "metadata": {
    "colab_type": "text",
    "id": "jXZRgEyina_1"
   },
   "source": [
    "importing and viewing the dataset"
   ]
  },
  {
   "cell_type": "code",
   "execution_count": null,
   "metadata": {
    "colab": {
     "base_uri": "https://localhost:8080/"
    },
    "colab_type": "code",
    "id": "ZHww9K17mvnQ",
    "outputId": "0e546f50-a5fb-4719-82a7-537a1bea521d"
   },
   "outputs": [],
   "source": [
    "import pandas as pd\n",
    "import numpy as np\n",
    "import re\n",
    "import nltk\n",
    "import string\n",
    "from sklearn.metrics.pairwise import cosine_similarity\n",
    "from sklearn.feature_extraction.text import CountVectorizer, HashingVectorizer, TfidfVectorizer\n",
    "from nltk.corpus import stopwords\n",
    "from nltk.stem import WordNetLemmatizer\n",
    "import statistics\n",
    "from statistics import mode\n",
    "from sklearn.model_selection import train_test_split\n",
    "from sklearn.metrics.pairwise import cosine_similarity\n",
    "\n",
    "\n",
    "train_data = pd.read_csv(\"1598639150_466036_train_file.txt\", sep=\"\\t\")\n",
    "print(train_data)\n",
    "\n",
    "test_data = pd.read_csv(\"1598639150_4984343_test_file.txt\", header=None, names=[\"review\"])\n",
    "print(test_data)"
   ]
  },
  {
   "cell_type": "code",
   "execution_count": null,
   "metadata": {},
   "outputs": [],
   "source": [
    "train_data['review'].count()"
   ]
  },
  {
   "cell_type": "code",
   "execution_count": null,
   "metadata": {},
   "outputs": [],
   "source": [
    "f = open(\"1598639150_4984343_test_file.txt\", 'r', encoding=\"utf8\")\n",
    "txt = f.read().split('\\n')\n",
    "txt = list(filter(None, txt))\n",
    "test_data = pd.DataFrame(txt, columns=['review'])\n",
    "test_data"
   ]
  },
  {
   "cell_type": "markdown",
   "metadata": {
    "colab_type": "text",
    "id": "yaDSoC4c6FO1"
   },
   "source": [
    "check for null values in dataset"
   ]
  },
  {
   "cell_type": "code",
   "execution_count": null,
   "metadata": {
    "colab": {
     "base_uri": "https://localhost:8080/"
    },
    "colab_type": "code",
    "id": "76bJuag65seR",
    "outputId": "309461ac-fb1e-4633-b985-b53ccd34ebd7"
   },
   "outputs": [],
   "source": [
    "train_data.isnull().sum()\n",
    "test_data.isnull().sum()"
   ]
  },
  {
   "cell_type": "markdown",
   "metadata": {
    "colab_type": "text",
    "id": "h8MvP8VMrC_S"
   },
   "source": [
    "data cleaning and preprocessing\n",
    "1. removing \\<br /> tag"
   ]
  },
  {
   "cell_type": "markdown",
   "metadata": {
    "colab_type": "text",
    "id": "8DjH2Sqr9Cac"
   },
   "source": [
    "download nltk"
   ]
  },
  {
   "cell_type": "code",
   "execution_count": null,
   "metadata": {
    "colab": {
     "base_uri": "https://localhost:8080/"
    },
    "colab_type": "code",
    "id": "9E8QUGAp9FXB",
    "outputId": "1fcf83d5-0af9-4d4a-ccea-37798a9dfa6d"
   },
   "outputs": [],
   "source": [
    "nltk.download('stopwords')\n",
    "nltk.download('wordnet')"
   ]
  },
  {
   "cell_type": "markdown",
   "metadata": {
    "colab_type": "text",
    "id": "cWedC_Fa7yE-"
   },
   "source": [
    "convert sentences to vectors"
   ]
  },
  {
   "cell_type": "code",
   "execution_count": null,
   "metadata": {
    "colab": {},
    "colab_type": "code",
    "id": "IZ6DMsIL8eHS"
   },
   "outputs": [],
   "source": [
    "stopwords = stopwords.words('english')\n"
   ]
  },
  {
   "cell_type": "code",
   "execution_count": null,
   "metadata": {},
   "outputs": [],
   "source": [
    "stopwords.append('br')"
   ]
  },
  {
   "cell_type": "code",
   "execution_count": null,
   "metadata": {
    "colab": {},
    "colab_type": "code",
    "id": "447yzLYU9m5C"
   },
   "outputs": [],
   "source": [
    "def clean_string(cleaned_text):\n",
    "    lemmatizer = WordNetLemmatizer()\n",
    "    #      remove tags\n",
    "    cleaned_text = re.sub('<[^<]+?>','', cleaned_text)\n",
    "    #     to lower case\n",
    "    cleaned_text = cleaned_text.lower()   \n",
    "    #     lemmatization\n",
    "    cleaned_text = [lemmatizer.lemmatize(word) for word in cleaned_text]\n",
    "    #     remove numbers\n",
    "    cleaned_text = ''.join(word for word in cleaned_text if not word.isdigit())\n",
    "    #      remove punctuation\n",
    "    cleaned_text = ''.join([word for word in cleaned_text if word not in string.punctuation])\n",
    "    #     remove stop-words\n",
    "    cleaned_text = ' '.join([word for word in cleaned_text.split() if word not in stopwords])\n",
    "    \n",
    "    return cleaned_text"
   ]
  },
  {
   "cell_type": "code",
   "execution_count": null,
   "metadata": {},
   "outputs": [],
   "source": [
    "lemmatizer = WordNetLemmatizer()"
   ]
  },
  {
   "cell_type": "code",
   "execution_count": null,
   "metadata": {},
   "outputs": [],
   "source": [
    "train_data['review'] = train_data['review'].str.lower()\n",
    "train_data['review'] = train_data['review'].str.replace('[^a-zA-Z ]', ' ')\n",
    "train_data['review'] = train_data['review'].apply(lambda x : ' '.join([lemmatizer.lemmatize(word) for word in x.split() if word not in stopwords and len(word) > 1]))"
   ]
  },
  {
   "cell_type": "code",
   "execution_count": null,
   "metadata": {},
   "outputs": [],
   "source": [
    "test_data['review'] = test_data['review'].str.lower()\n",
    "test_data['review'] = test_data['review'].str.replace('[^a-zA-Z ]', ' ')\n",
    "test_data['review'] = test_data['review'].apply(lambda x : ' '.join([lemmatizer.lemmatize(word) for word in x.split() if word not in stopwords and len(word) > 1]))"
   ]
  },
  {
   "cell_type": "code",
   "execution_count": null,
   "metadata": {},
   "outputs": [],
   "source": [
    "train_data['review'][:10]"
   ]
  },
  {
   "cell_type": "code",
   "execution_count": null,
   "metadata": {},
   "outputs": [],
   "source": [
    "# test_data['review'][:10]"
   ]
  },
  {
   "cell_type": "code",
   "execution_count": null,
   "metadata": {
    "colab": {
     "base_uri": "https://localhost:8080/"
    },
    "colab_type": "code",
    "id": "KNDpnkiF-CU4",
    "outputId": "d53b0389-1a9c-4085-eafb-a4aae2fd66fe"
   },
   "outputs": [],
   "source": [
    "#cleaned_train = list(map(clean_string, train_data['review']))\n",
    "#cleaned_test = list(map(clean_string, test_data['review']))\n",
    "#cleaned_train\n",
    "#len(cleaned_test)"
   ]
  },
  {
   "cell_type": "code",
   "execution_count": null,
   "metadata": {
    "colab": {
     "base_uri": "https://localhost:8080/"
    },
    "colab_type": "code",
    "id": "Llki2zKF_0n-",
    "outputId": "14222264-ff9a-4b5a-ce03-710dd13f9dde"
   },
   "outputs": [],
   "source": [
    "train_vectorizer = TfidfVectorizer(min_df=2, ngram_range=(1,3), max_features = 75000)\n",
    "train_vectorizer.fit(train_data['review'])\n",
    "train_vector = train_vectorizer.transform(train_data['review'])\n",
    "\n",
    "test_vector = train_vectorizer.transform(test_data['review'])\n",
    "\n",
    "# train_vectorizer.fit(cleaned_test)\n",
    "# test_vector = train_vectorizer.transform(cleaned_test)"
   ]
  },
  {
   "cell_type": "code",
   "execution_count": null,
   "metadata": {},
   "outputs": [],
   "source": [
    "X_train, X_test, y_train, y_test = train_test_split(train_vector, train_data['sentiment'], test_size=0.2, random_state=42)\n",
    "# print(y_train.shape, y_test.shape)\n",
    "# X_train = train_vector\n",
    "# X_test = test_vector\n",
    "# X_train = train_vector[:train_data['review'].count()]\n",
    "# X_test = train_vector[train_data['review'].count():]\n",
    "print(train_vector.shape)\n",
    "# X_test = train_vector[-len(cleaned_test):len(cleaned_train)]\n",
    "\n",
    "# y_train = train_data['sentiment']\n",
    "print(X_train.shape, X_test.shape, y_train)\n"
   ]
  },
  {
   "cell_type": "code",
   "execution_count": null,
   "metadata": {},
   "outputs": [],
   "source": [
    "y_train = y_train.to_numpy()\n",
    "#print(y_train)\n",
    "print(y_train.shape)\n",
    "print(type(y_train))"
   ]
  },
  {
   "cell_type": "code",
   "execution_count": null,
   "metadata": {
    "scrolled": true
   },
   "outputs": [],
   "source": [
    "y_test = y_test.to_numpy()\n",
    "#print(y_test)\n",
    "print(y_test.shape)\n",
    "print(type(y_test))"
   ]
  },
  {
   "cell_type": "code",
   "execution_count": null,
   "metadata": {},
   "outputs": [],
   "source": [
    "print(type(y_train))\n",
    "print(type(y_test))"
   ]
  },
  {
   "cell_type": "code",
   "execution_count": null,
   "metadata": {
    "colab": {
     "base_uri": "https://localhost:8080/"
    },
    "colab_type": "code",
    "id": "MWsGZ7dTlIXq",
    "outputId": "5b876a10-6181-4151-9635-2e51583671c6",
    "scrolled": false
   },
   "outputs": [],
   "source": [
    "cos_sim = cosine_similarity(X_train, X_test)\n",
    "cos_sim = cos_sim.transpose()\n",
    "print(type(cos_sim))\n",
    "print(cos_sim.shape)\n",
    "print(cos_sim)"
   ]
  },
  {
   "cell_type": "code",
   "execution_count": null,
   "metadata": {},
   "outputs": [],
   "source": [
    "k = 3\n",
    "for k in range(1,300,2):\n",
    "    indices = list()\n",
    "#     k = 181\n",
    "    for doc in cos_sim:\n",
    "        indices.append(np.argsort(doc)[-k:])\n",
    "    pred_val = list()\n",
    "    for arr in indices:\n",
    "        pred_val.append(mode([y_train[i] for i in arr]))\n",
    "    correct = 0\n",
    "    for i in range(len(pred_val)):\n",
    "        if pred_val[i] == y_test[i]:\n",
    "            correct+=1\n",
    "    print(\"For k = \",k,\" => \", correct/len(pred_val)*100, \"%\\n\")"
   ]
  },
  {
   "cell_type": "code",
   "execution_count": null,
   "metadata": {
    "colab": {},
    "colab_type": "code",
    "id": "Gy7DhoEajL26"
   },
   "outputs": [],
   "source": [
    "indices = list()\n",
    "k = 211\n",
    "for doc in cos_sim:\n",
    "    indices.append(np.argsort(doc)[-k:])"
   ]
  },
  {
   "cell_type": "code",
   "execution_count": null,
   "metadata": {
    "colab": {
     "base_uri": "https://localhost:8080/",
     "height": 1000
    },
    "colab_type": "code",
    "id": "HttNN-N6snQF",
    "outputId": "c866316b-41cd-473c-d18d-9e175a04d250"
   },
   "outputs": [],
   "source": [
    "indices[0]"
   ]
  },
  {
   "cell_type": "code",
   "execution_count": null,
   "metadata": {
    "colab": {
     "base_uri": "https://localhost:8080/"
    },
    "colab_type": "code",
    "id": "UkzaAVDhkI9t",
    "outputId": "83864252-0196-4d6f-a2a4-7f4bbcb6eda6"
   },
   "outputs": [],
   "source": [
    "pred_val = list()\n",
    "for arr in indices:\n",
    "    pred_val.append(mode([y_train[i] for i in arr]))"
   ]
  },
  {
   "cell_type": "code",
   "execution_count": null,
   "metadata": {
    "colab": {},
    "colab_type": "code",
    "id": "EGhvc5wJkm1O"
   },
   "outputs": [],
   "source": [
    "print(len(pred_val))"
   ]
  },
  {
   "cell_type": "code",
   "execution_count": null,
   "metadata": {},
   "outputs": [],
   "source": [
    "print(pred_val)"
   ]
  },
  {
   "cell_type": "code",
   "execution_count": null,
   "metadata": {},
   "outputs": [],
   "source": [
    "correct = 0\n",
    "\n",
    "for i in range(len(pred_val)):\n",
    "    if pred_val[i] == y_test[i]:\n",
    "        correct+=1"
   ]
  },
  {
   "cell_type": "code",
   "execution_count": null,
   "metadata": {},
   "outputs": [],
   "source": [
    "print(correct/len(pred_val)*100, \"%\")"
   ]
  },
  {
   "cell_type": "code",
   "execution_count": null,
   "metadata": {},
   "outputs": [],
   "source": [
    "with open('pred_values.txt', 'w') as filehandle:\n",
    "    for listitem in pred_val:\n",
    "        filehandle.write('%s\\n' % listitem)"
   ]
  },
  {
   "cell_type": "code",
   "execution_count": null,
   "metadata": {},
   "outputs": [],
   "source": []
  }
 ],
 "metadata": {
  "accelerator": "TPU",
  "colab": {
   "collapsed_sections": [],
   "name": "cs584_hw1.ipynb",
   "provenance": []
  },
  "kernelspec": {
   "display_name": "Python 3",
   "language": "python",
   "name": "python3"
  },
  "language_info": {
   "codemirror_mode": {
    "name": "ipython",
    "version": 3
   },
   "file_extension": ".py",
   "mimetype": "text/x-python",
   "name": "python",
   "nbconvert_exporter": "python",
   "pygments_lexer": "ipython3",
   "version": "3.8.3"
  }
 },
 "nbformat": 4,
 "nbformat_minor": 1
}
