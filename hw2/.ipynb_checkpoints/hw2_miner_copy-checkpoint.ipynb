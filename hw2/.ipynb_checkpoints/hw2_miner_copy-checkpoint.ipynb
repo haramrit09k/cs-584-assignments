{
 "cells": [
  {
   "cell_type": "markdown",
   "metadata": {},
   "source": [
    "### Haramrit Singh Khurana\n",
    "## Data Mining CS584 - HW2 "
   ]
  },
  {
   "cell_type": "markdown",
   "metadata": {},
   "source": [
    "# <span style=\"color: red\">Miner Copy:</span>"
   ]
  },
  {
   "cell_type": "markdown",
   "metadata": {},
   "source": [
    "### Given attributes in dataset\n",
    "- id - unique identifier\n",
    "- F1 - Continuous value describing number of years since last degree was completed\n",
    "- F2 - Continuous value indicating hours worked per week\n",
    "- F3 - Categorical Value\n",
    "- F4 - Categorical Value indicating type of occupation\n",
    "- F5 - continuous value denoting gains\n",
    "- F6 - continuous value denoting loss\n",
    "- F7 - Categorical value denoting marital status\n",
    "- F8 - Categorical value denoting type of employment (e.g., Self)\n",
    "- F9 - Categorical Value denoting education type\n",
    "- F10 - Categorical Value denoting different race\n",
    "- F11 - Categorical - Female/Male\n",
    "- credit - 0: Bad, 1: Good"
   ]
  },
  {
   "cell_type": "markdown",
   "metadata": {},
   "source": [
    "## All import statements"
   ]
  },
  {
   "cell_type": "code",
   "execution_count": 1,
   "metadata": {},
   "outputs": [],
   "source": [
    "import pandas as pd\n",
    "import numpy as np\n",
    "import matplotlib.pyplot as plt\n",
    "from sklearn.model_selection import train_test_split\n",
    "from sklearn import metrics\n",
    "from sklearn.metrics import classification_report"
   ]
  },
  {
   "cell_type": "markdown",
   "metadata": {},
   "source": [
    "### Read train and test dataset"
   ]
  },
  {
   "cell_type": "code",
   "execution_count": 2,
   "metadata": {},
   "outputs": [
    {
     "data": {
      "text/html": [
       "<div>\n",
       "<style scoped>\n",
       "    .dataframe tbody tr th:only-of-type {\n",
       "        vertical-align: middle;\n",
       "    }\n",
       "\n",
       "    .dataframe tbody tr th {\n",
       "        vertical-align: top;\n",
       "    }\n",
       "\n",
       "    .dataframe thead th {\n",
       "        text-align: right;\n",
       "    }\n",
       "</style>\n",
       "<table border=\"1\" class=\"dataframe\">\n",
       "  <thead>\n",
       "    <tr style=\"text-align: right;\">\n",
       "      <th></th>\n",
       "      <th>id</th>\n",
       "      <th>F1</th>\n",
       "      <th>F2</th>\n",
       "      <th>F3</th>\n",
       "      <th>F4</th>\n",
       "      <th>F5</th>\n",
       "      <th>F6</th>\n",
       "      <th>F7</th>\n",
       "      <th>F8</th>\n",
       "      <th>F9</th>\n",
       "      <th>F10</th>\n",
       "      <th>F11</th>\n",
       "      <th>credit</th>\n",
       "    </tr>\n",
       "  </thead>\n",
       "  <tbody>\n",
       "    <tr>\n",
       "      <th>0</th>\n",
       "      <td>0</td>\n",
       "      <td>13</td>\n",
       "      <td>40</td>\n",
       "      <td>1</td>\n",
       "      <td>1</td>\n",
       "      <td>2174</td>\n",
       "      <td>0</td>\n",
       "      <td>4</td>\n",
       "      <td>7</td>\n",
       "      <td>9</td>\n",
       "      <td>White</td>\n",
       "      <td>Male</td>\n",
       "      <td>0</td>\n",
       "    </tr>\n",
       "    <tr>\n",
       "      <th>1</th>\n",
       "      <td>1</td>\n",
       "      <td>13</td>\n",
       "      <td>13</td>\n",
       "      <td>0</td>\n",
       "      <td>4</td>\n",
       "      <td>0</td>\n",
       "      <td>0</td>\n",
       "      <td>2</td>\n",
       "      <td>6</td>\n",
       "      <td>9</td>\n",
       "      <td>White</td>\n",
       "      <td>Male</td>\n",
       "      <td>0</td>\n",
       "    </tr>\n",
       "    <tr>\n",
       "      <th>2</th>\n",
       "      <td>2</td>\n",
       "      <td>9</td>\n",
       "      <td>40</td>\n",
       "      <td>1</td>\n",
       "      <td>6</td>\n",
       "      <td>0</td>\n",
       "      <td>0</td>\n",
       "      <td>0</td>\n",
       "      <td>4</td>\n",
       "      <td>11</td>\n",
       "      <td>White</td>\n",
       "      <td>Male</td>\n",
       "      <td>0</td>\n",
       "    </tr>\n",
       "    <tr>\n",
       "      <th>3</th>\n",
       "      <td>3</td>\n",
       "      <td>7</td>\n",
       "      <td>40</td>\n",
       "      <td>0</td>\n",
       "      <td>6</td>\n",
       "      <td>0</td>\n",
       "      <td>0</td>\n",
       "      <td>2</td>\n",
       "      <td>4</td>\n",
       "      <td>1</td>\n",
       "      <td>Black</td>\n",
       "      <td>Male</td>\n",
       "      <td>0</td>\n",
       "    </tr>\n",
       "    <tr>\n",
       "      <th>4</th>\n",
       "      <td>4</td>\n",
       "      <td>13</td>\n",
       "      <td>40</td>\n",
       "      <td>5</td>\n",
       "      <td>10</td>\n",
       "      <td>0</td>\n",
       "      <td>0</td>\n",
       "      <td>2</td>\n",
       "      <td>4</td>\n",
       "      <td>9</td>\n",
       "      <td>Black</td>\n",
       "      <td>Female</td>\n",
       "      <td>0</td>\n",
       "    </tr>\n",
       "    <tr>\n",
       "      <th>...</th>\n",
       "      <td>...</td>\n",
       "      <td>...</td>\n",
       "      <td>...</td>\n",
       "      <td>...</td>\n",
       "      <td>...</td>\n",
       "      <td>...</td>\n",
       "      <td>...</td>\n",
       "      <td>...</td>\n",
       "      <td>...</td>\n",
       "      <td>...</td>\n",
       "      <td>...</td>\n",
       "      <td>...</td>\n",
       "      <td>...</td>\n",
       "    </tr>\n",
       "    <tr>\n",
       "      <th>32556</th>\n",
       "      <td>32556</td>\n",
       "      <td>12</td>\n",
       "      <td>38</td>\n",
       "      <td>5</td>\n",
       "      <td>13</td>\n",
       "      <td>0</td>\n",
       "      <td>0</td>\n",
       "      <td>2</td>\n",
       "      <td>4</td>\n",
       "      <td>7</td>\n",
       "      <td>White</td>\n",
       "      <td>Female</td>\n",
       "      <td>0</td>\n",
       "    </tr>\n",
       "    <tr>\n",
       "      <th>32557</th>\n",
       "      <td>32557</td>\n",
       "      <td>9</td>\n",
       "      <td>40</td>\n",
       "      <td>0</td>\n",
       "      <td>7</td>\n",
       "      <td>0</td>\n",
       "      <td>0</td>\n",
       "      <td>2</td>\n",
       "      <td>4</td>\n",
       "      <td>11</td>\n",
       "      <td>White</td>\n",
       "      <td>Male</td>\n",
       "      <td>1</td>\n",
       "    </tr>\n",
       "    <tr>\n",
       "      <th>32558</th>\n",
       "      <td>32558</td>\n",
       "      <td>9</td>\n",
       "      <td>40</td>\n",
       "      <td>4</td>\n",
       "      <td>1</td>\n",
       "      <td>0</td>\n",
       "      <td>0</td>\n",
       "      <td>6</td>\n",
       "      <td>4</td>\n",
       "      <td>11</td>\n",
       "      <td>White</td>\n",
       "      <td>Female</td>\n",
       "      <td>0</td>\n",
       "    </tr>\n",
       "    <tr>\n",
       "      <th>32559</th>\n",
       "      <td>32559</td>\n",
       "      <td>9</td>\n",
       "      <td>20</td>\n",
       "      <td>3</td>\n",
       "      <td>1</td>\n",
       "      <td>0</td>\n",
       "      <td>0</td>\n",
       "      <td>4</td>\n",
       "      <td>4</td>\n",
       "      <td>11</td>\n",
       "      <td>White</td>\n",
       "      <td>Male</td>\n",
       "      <td>0</td>\n",
       "    </tr>\n",
       "    <tr>\n",
       "      <th>32560</th>\n",
       "      <td>32560</td>\n",
       "      <td>9</td>\n",
       "      <td>40</td>\n",
       "      <td>5</td>\n",
       "      <td>4</td>\n",
       "      <td>15024</td>\n",
       "      <td>0</td>\n",
       "      <td>2</td>\n",
       "      <td>5</td>\n",
       "      <td>11</td>\n",
       "      <td>White</td>\n",
       "      <td>Female</td>\n",
       "      <td>1</td>\n",
       "    </tr>\n",
       "  </tbody>\n",
       "</table>\n",
       "<p>32561 rows × 13 columns</p>\n",
       "</div>"
      ],
      "text/plain": [
       "          id  F1  F2  F3  F4     F5  F6  F7  F8  F9     F10      F11  credit\n",
       "0          0  13  40   1   1   2174   0   4   7   9   White     Male       0\n",
       "1          1  13  13   0   4      0   0   2   6   9   White     Male       0\n",
       "2          2   9  40   1   6      0   0   0   4  11   White     Male       0\n",
       "3          3   7  40   0   6      0   0   2   4   1   Black     Male       0\n",
       "4          4  13  40   5  10      0   0   2   4   9   Black   Female       0\n",
       "...      ...  ..  ..  ..  ..    ...  ..  ..  ..  ..     ...      ...     ...\n",
       "32556  32556  12  38   5  13      0   0   2   4   7   White   Female       0\n",
       "32557  32557   9  40   0   7      0   0   2   4  11   White     Male       1\n",
       "32558  32558   9  40   4   1      0   0   6   4  11   White   Female       0\n",
       "32559  32559   9  20   3   1      0   0   4   4  11   White     Male       0\n",
       "32560  32560   9  40   5   4  15024   0   2   5  11   White   Female       1\n",
       "\n",
       "[32561 rows x 13 columns]"
      ]
     },
     "execution_count": 2,
     "metadata": {},
     "output_type": "execute_result"
    }
   ],
   "source": [
    "train_data = pd.read_csv(\"1600106342_882043_train.csv\")\n",
    "train_data"
   ]
  },
  {
   "cell_type": "code",
   "execution_count": 3,
   "metadata": {
    "scrolled": true
   },
   "outputs": [
    {
     "data": {
      "text/html": [
       "<div>\n",
       "<style scoped>\n",
       "    .dataframe tbody tr th:only-of-type {\n",
       "        vertical-align: middle;\n",
       "    }\n",
       "\n",
       "    .dataframe tbody tr th {\n",
       "        vertical-align: top;\n",
       "    }\n",
       "\n",
       "    .dataframe thead th {\n",
       "        text-align: right;\n",
       "    }\n",
       "</style>\n",
       "<table border=\"1\" class=\"dataframe\">\n",
       "  <thead>\n",
       "    <tr style=\"text-align: right;\">\n",
       "      <th></th>\n",
       "      <th>id</th>\n",
       "      <th>F1</th>\n",
       "      <th>F2</th>\n",
       "      <th>F3</th>\n",
       "      <th>F4</th>\n",
       "      <th>F5</th>\n",
       "      <th>F6</th>\n",
       "      <th>F7</th>\n",
       "      <th>F8</th>\n",
       "      <th>F9</th>\n",
       "      <th>F10</th>\n",
       "      <th>F11</th>\n",
       "    </tr>\n",
       "  </thead>\n",
       "  <tbody>\n",
       "    <tr>\n",
       "      <th>0</th>\n",
       "      <td>0</td>\n",
       "      <td>7</td>\n",
       "      <td>40</td>\n",
       "      <td>3</td>\n",
       "      <td>7</td>\n",
       "      <td>0</td>\n",
       "      <td>0</td>\n",
       "      <td>4</td>\n",
       "      <td>4</td>\n",
       "      <td>1</td>\n",
       "      <td>Black</td>\n",
       "      <td>Male</td>\n",
       "    </tr>\n",
       "    <tr>\n",
       "      <th>1</th>\n",
       "      <td>1</td>\n",
       "      <td>12</td>\n",
       "      <td>40</td>\n",
       "      <td>0</td>\n",
       "      <td>11</td>\n",
       "      <td>0</td>\n",
       "      <td>0</td>\n",
       "      <td>2</td>\n",
       "      <td>2</td>\n",
       "      <td>7</td>\n",
       "      <td>White</td>\n",
       "      <td>Male</td>\n",
       "    </tr>\n",
       "    <tr>\n",
       "      <th>2</th>\n",
       "      <td>2</td>\n",
       "      <td>10</td>\n",
       "      <td>40</td>\n",
       "      <td>0</td>\n",
       "      <td>7</td>\n",
       "      <td>7688</td>\n",
       "      <td>0</td>\n",
       "      <td>2</td>\n",
       "      <td>4</td>\n",
       "      <td>15</td>\n",
       "      <td>Black</td>\n",
       "      <td>Male</td>\n",
       "    </tr>\n",
       "    <tr>\n",
       "      <th>3</th>\n",
       "      <td>3</td>\n",
       "      <td>10</td>\n",
       "      <td>30</td>\n",
       "      <td>3</td>\n",
       "      <td>0</td>\n",
       "      <td>0</td>\n",
       "      <td>0</td>\n",
       "      <td>4</td>\n",
       "      <td>0</td>\n",
       "      <td>15</td>\n",
       "      <td>White</td>\n",
       "      <td>Female</td>\n",
       "    </tr>\n",
       "    <tr>\n",
       "      <th>4</th>\n",
       "      <td>4</td>\n",
       "      <td>6</td>\n",
       "      <td>30</td>\n",
       "      <td>1</td>\n",
       "      <td>8</td>\n",
       "      <td>0</td>\n",
       "      <td>0</td>\n",
       "      <td>4</td>\n",
       "      <td>4</td>\n",
       "      <td>0</td>\n",
       "      <td>White</td>\n",
       "      <td>Male</td>\n",
       "    </tr>\n",
       "    <tr>\n",
       "      <th>...</th>\n",
       "      <td>...</td>\n",
       "      <td>...</td>\n",
       "      <td>...</td>\n",
       "      <td>...</td>\n",
       "      <td>...</td>\n",
       "      <td>...</td>\n",
       "      <td>...</td>\n",
       "      <td>...</td>\n",
       "      <td>...</td>\n",
       "      <td>...</td>\n",
       "      <td>...</td>\n",
       "      <td>...</td>\n",
       "    </tr>\n",
       "    <tr>\n",
       "      <th>13300</th>\n",
       "      <td>13300</td>\n",
       "      <td>13</td>\n",
       "      <td>40</td>\n",
       "      <td>3</td>\n",
       "      <td>10</td>\n",
       "      <td>0</td>\n",
       "      <td>0</td>\n",
       "      <td>4</td>\n",
       "      <td>4</td>\n",
       "      <td>9</td>\n",
       "      <td>White</td>\n",
       "      <td>Male</td>\n",
       "    </tr>\n",
       "    <tr>\n",
       "      <th>13301</th>\n",
       "      <td>13301</td>\n",
       "      <td>13</td>\n",
       "      <td>36</td>\n",
       "      <td>1</td>\n",
       "      <td>10</td>\n",
       "      <td>0</td>\n",
       "      <td>0</td>\n",
       "      <td>0</td>\n",
       "      <td>4</td>\n",
       "      <td>9</td>\n",
       "      <td>White</td>\n",
       "      <td>Female</td>\n",
       "    </tr>\n",
       "    <tr>\n",
       "      <th>13302</th>\n",
       "      <td>13302</td>\n",
       "      <td>9</td>\n",
       "      <td>40</td>\n",
       "      <td>2</td>\n",
       "      <td>0</td>\n",
       "      <td>0</td>\n",
       "      <td>0</td>\n",
       "      <td>6</td>\n",
       "      <td>0</td>\n",
       "      <td>11</td>\n",
       "      <td>Black</td>\n",
       "      <td>Male</td>\n",
       "    </tr>\n",
       "    <tr>\n",
       "      <th>13303</th>\n",
       "      <td>13303</td>\n",
       "      <td>13</td>\n",
       "      <td>50</td>\n",
       "      <td>0</td>\n",
       "      <td>10</td>\n",
       "      <td>0</td>\n",
       "      <td>0</td>\n",
       "      <td>2</td>\n",
       "      <td>4</td>\n",
       "      <td>9</td>\n",
       "      <td>White</td>\n",
       "      <td>Male</td>\n",
       "    </tr>\n",
       "    <tr>\n",
       "      <th>13304</th>\n",
       "      <td>13304</td>\n",
       "      <td>13</td>\n",
       "      <td>40</td>\n",
       "      <td>3</td>\n",
       "      <td>1</td>\n",
       "      <td>5455</td>\n",
       "      <td>0</td>\n",
       "      <td>0</td>\n",
       "      <td>4</td>\n",
       "      <td>9</td>\n",
       "      <td>Asian-Pac-Islander</td>\n",
       "      <td>Male</td>\n",
       "    </tr>\n",
       "  </tbody>\n",
       "</table>\n",
       "<p>13305 rows × 12 columns</p>\n",
       "</div>"
      ],
      "text/plain": [
       "          id  F1  F2  F3  F4    F5  F6  F7  F8  F9                  F10  \\\n",
       "0          0   7  40   3   7     0   0   4   4   1                Black   \n",
       "1          1  12  40   0  11     0   0   2   2   7                White   \n",
       "2          2  10  40   0   7  7688   0   2   4  15                Black   \n",
       "3          3  10  30   3   0     0   0   4   0  15                White   \n",
       "4          4   6  30   1   8     0   0   4   4   0                White   \n",
       "...      ...  ..  ..  ..  ..   ...  ..  ..  ..  ..                  ...   \n",
       "13300  13300  13  40   3  10     0   0   4   4   9                White   \n",
       "13301  13301  13  36   1  10     0   0   0   4   9                White   \n",
       "13302  13302   9  40   2   0     0   0   6   0  11                Black   \n",
       "13303  13303  13  50   0  10     0   0   2   4   9                White   \n",
       "13304  13304  13  40   3   1  5455   0   0   4   9   Asian-Pac-Islander   \n",
       "\n",
       "           F11  \n",
       "0         Male  \n",
       "1         Male  \n",
       "2         Male  \n",
       "3       Female  \n",
       "4         Male  \n",
       "...        ...  \n",
       "13300     Male  \n",
       "13301   Female  \n",
       "13302     Male  \n",
       "13303     Male  \n",
       "13304     Male  \n",
       "\n",
       "[13305 rows x 12 columns]"
      ]
     },
     "execution_count": 3,
     "metadata": {},
     "output_type": "execute_result"
    }
   ],
   "source": [
    "test_data = pd.read_csv(\"1600106342_8864183_test.csv\")\n",
    "test_data"
   ]
  },
  {
   "cell_type": "markdown",
   "metadata": {},
   "source": [
    "### Checking for null values"
   ]
  },
  {
   "cell_type": "code",
   "execution_count": 4,
   "metadata": {
    "scrolled": true
   },
   "outputs": [
    {
     "name": "stdout",
     "output_type": "stream",
     "text": [
      "id        0\n",
      "F1        0\n",
      "F2        0\n",
      "F3        0\n",
      "F4        0\n",
      "F5        0\n",
      "F6        0\n",
      "F7        0\n",
      "F8        0\n",
      "F9        0\n",
      "F10       0\n",
      "F11       0\n",
      "credit    0\n",
      "dtype: int64\n",
      "id     0\n",
      "F1     0\n",
      "F2     0\n",
      "F3     0\n",
      "F4     0\n",
      "F5     0\n",
      "F6     0\n",
      "F7     0\n",
      "F8     0\n",
      "F9     0\n",
      "F10    0\n",
      "F11    0\n",
      "dtype: int64\n"
     ]
    }
   ],
   "source": [
    "# check for null values\n",
    "\n",
    "print(train_data.isnull().sum())\n",
    "print(test_data.isnull().sum())"
   ]
  },
  {
   "cell_type": "markdown",
   "metadata": {},
   "source": [
    "### Drop id column since it does not affect the classification/prediction"
   ]
  },
  {
   "cell_type": "code",
   "execution_count": 5,
   "metadata": {},
   "outputs": [],
   "source": [
    "train_data = train_data.drop(columns=['id'])\n",
    "test_data = test_data.drop(columns=['id'])"
   ]
  },
  {
   "cell_type": "markdown",
   "metadata": {},
   "source": [
    "### Rename columns to appropriate names for easier understanding"
   ]
  },
  {
   "cell_type": "code",
   "execution_count": 6,
   "metadata": {},
   "outputs": [],
   "source": [
    " train_data = train_data.rename(columns={\"F1\": \"yearsSinceLastDegree\", \"F2\": \"hoursWorkedPerWeek\", \"F3\": \"unknownCategoricalVal\", \"F4\": \"typeOfOccupation\", \"F5\": \"gains\", \"F6\": \"loss\", \"F7\": \"maritalStatus\", \"F8\": \"employmentType\", \"F9\": \"educationType\", \"F10\": \"race\", \"F11\": \"gender\"})\n",
    "test_data = test_data.rename(columns={\"F1\": \"yearsSinceLastDegree\", \"F2\": \"hoursWorkedPerWeek\", \"F3\": \"unknownCategoricalVal\", \"F4\": \"typeOfOccupation\", \"F5\": \"gains\", \"F6\": \"loss\", \"F7\": \"maritalStatus\", \"F8\": \"employmentType\", \"F9\": \"educationType\", \"F10\": \"race\", \"F11\": \"gender\"})"
   ]
  },
  {
   "cell_type": "code",
   "execution_count": 7,
   "metadata": {},
   "outputs": [
    {
     "data": {
      "text/html": [
       "<div>\n",
       "<style scoped>\n",
       "    .dataframe tbody tr th:only-of-type {\n",
       "        vertical-align: middle;\n",
       "    }\n",
       "\n",
       "    .dataframe tbody tr th {\n",
       "        vertical-align: top;\n",
       "    }\n",
       "\n",
       "    .dataframe thead th {\n",
       "        text-align: right;\n",
       "    }\n",
       "</style>\n",
       "<table border=\"1\" class=\"dataframe\">\n",
       "  <thead>\n",
       "    <tr style=\"text-align: right;\">\n",
       "      <th></th>\n",
       "      <th>yearsSinceLastDegree</th>\n",
       "      <th>hoursWorkedPerWeek</th>\n",
       "      <th>unknownCategoricalVal</th>\n",
       "      <th>typeOfOccupation</th>\n",
       "      <th>gains</th>\n",
       "      <th>loss</th>\n",
       "      <th>maritalStatus</th>\n",
       "      <th>employmentType</th>\n",
       "      <th>educationType</th>\n",
       "      <th>race</th>\n",
       "      <th>gender</th>\n",
       "      <th>credit</th>\n",
       "    </tr>\n",
       "  </thead>\n",
       "  <tbody>\n",
       "    <tr>\n",
       "      <th>0</th>\n",
       "      <td>13</td>\n",
       "      <td>40</td>\n",
       "      <td>1</td>\n",
       "      <td>1</td>\n",
       "      <td>2174</td>\n",
       "      <td>0</td>\n",
       "      <td>4</td>\n",
       "      <td>7</td>\n",
       "      <td>9</td>\n",
       "      <td>White</td>\n",
       "      <td>Male</td>\n",
       "      <td>0</td>\n",
       "    </tr>\n",
       "    <tr>\n",
       "      <th>1</th>\n",
       "      <td>13</td>\n",
       "      <td>13</td>\n",
       "      <td>0</td>\n",
       "      <td>4</td>\n",
       "      <td>0</td>\n",
       "      <td>0</td>\n",
       "      <td>2</td>\n",
       "      <td>6</td>\n",
       "      <td>9</td>\n",
       "      <td>White</td>\n",
       "      <td>Male</td>\n",
       "      <td>0</td>\n",
       "    </tr>\n",
       "    <tr>\n",
       "      <th>2</th>\n",
       "      <td>9</td>\n",
       "      <td>40</td>\n",
       "      <td>1</td>\n",
       "      <td>6</td>\n",
       "      <td>0</td>\n",
       "      <td>0</td>\n",
       "      <td>0</td>\n",
       "      <td>4</td>\n",
       "      <td>11</td>\n",
       "      <td>White</td>\n",
       "      <td>Male</td>\n",
       "      <td>0</td>\n",
       "    </tr>\n",
       "    <tr>\n",
       "      <th>3</th>\n",
       "      <td>7</td>\n",
       "      <td>40</td>\n",
       "      <td>0</td>\n",
       "      <td>6</td>\n",
       "      <td>0</td>\n",
       "      <td>0</td>\n",
       "      <td>2</td>\n",
       "      <td>4</td>\n",
       "      <td>1</td>\n",
       "      <td>Black</td>\n",
       "      <td>Male</td>\n",
       "      <td>0</td>\n",
       "    </tr>\n",
       "    <tr>\n",
       "      <th>4</th>\n",
       "      <td>13</td>\n",
       "      <td>40</td>\n",
       "      <td>5</td>\n",
       "      <td>10</td>\n",
       "      <td>0</td>\n",
       "      <td>0</td>\n",
       "      <td>2</td>\n",
       "      <td>4</td>\n",
       "      <td>9</td>\n",
       "      <td>Black</td>\n",
       "      <td>Female</td>\n",
       "      <td>0</td>\n",
       "    </tr>\n",
       "    <tr>\n",
       "      <th>...</th>\n",
       "      <td>...</td>\n",
       "      <td>...</td>\n",
       "      <td>...</td>\n",
       "      <td>...</td>\n",
       "      <td>...</td>\n",
       "      <td>...</td>\n",
       "      <td>...</td>\n",
       "      <td>...</td>\n",
       "      <td>...</td>\n",
       "      <td>...</td>\n",
       "      <td>...</td>\n",
       "      <td>...</td>\n",
       "    </tr>\n",
       "    <tr>\n",
       "      <th>32556</th>\n",
       "      <td>12</td>\n",
       "      <td>38</td>\n",
       "      <td>5</td>\n",
       "      <td>13</td>\n",
       "      <td>0</td>\n",
       "      <td>0</td>\n",
       "      <td>2</td>\n",
       "      <td>4</td>\n",
       "      <td>7</td>\n",
       "      <td>White</td>\n",
       "      <td>Female</td>\n",
       "      <td>0</td>\n",
       "    </tr>\n",
       "    <tr>\n",
       "      <th>32557</th>\n",
       "      <td>9</td>\n",
       "      <td>40</td>\n",
       "      <td>0</td>\n",
       "      <td>7</td>\n",
       "      <td>0</td>\n",
       "      <td>0</td>\n",
       "      <td>2</td>\n",
       "      <td>4</td>\n",
       "      <td>11</td>\n",
       "      <td>White</td>\n",
       "      <td>Male</td>\n",
       "      <td>1</td>\n",
       "    </tr>\n",
       "    <tr>\n",
       "      <th>32558</th>\n",
       "      <td>9</td>\n",
       "      <td>40</td>\n",
       "      <td>4</td>\n",
       "      <td>1</td>\n",
       "      <td>0</td>\n",
       "      <td>0</td>\n",
       "      <td>6</td>\n",
       "      <td>4</td>\n",
       "      <td>11</td>\n",
       "      <td>White</td>\n",
       "      <td>Female</td>\n",
       "      <td>0</td>\n",
       "    </tr>\n",
       "    <tr>\n",
       "      <th>32559</th>\n",
       "      <td>9</td>\n",
       "      <td>20</td>\n",
       "      <td>3</td>\n",
       "      <td>1</td>\n",
       "      <td>0</td>\n",
       "      <td>0</td>\n",
       "      <td>4</td>\n",
       "      <td>4</td>\n",
       "      <td>11</td>\n",
       "      <td>White</td>\n",
       "      <td>Male</td>\n",
       "      <td>0</td>\n",
       "    </tr>\n",
       "    <tr>\n",
       "      <th>32560</th>\n",
       "      <td>9</td>\n",
       "      <td>40</td>\n",
       "      <td>5</td>\n",
       "      <td>4</td>\n",
       "      <td>15024</td>\n",
       "      <td>0</td>\n",
       "      <td>2</td>\n",
       "      <td>5</td>\n",
       "      <td>11</td>\n",
       "      <td>White</td>\n",
       "      <td>Female</td>\n",
       "      <td>1</td>\n",
       "    </tr>\n",
       "  </tbody>\n",
       "</table>\n",
       "<p>32561 rows × 12 columns</p>\n",
       "</div>"
      ],
      "text/plain": [
       "       yearsSinceLastDegree  hoursWorkedPerWeek  unknownCategoricalVal  \\\n",
       "0                        13                  40                      1   \n",
       "1                        13                  13                      0   \n",
       "2                         9                  40                      1   \n",
       "3                         7                  40                      0   \n",
       "4                        13                  40                      5   \n",
       "...                     ...                 ...                    ...   \n",
       "32556                    12                  38                      5   \n",
       "32557                     9                  40                      0   \n",
       "32558                     9                  40                      4   \n",
       "32559                     9                  20                      3   \n",
       "32560                     9                  40                      5   \n",
       "\n",
       "       typeOfOccupation  gains  loss  maritalStatus  employmentType  \\\n",
       "0                     1   2174     0              4               7   \n",
       "1                     4      0     0              2               6   \n",
       "2                     6      0     0              0               4   \n",
       "3                     6      0     0              2               4   \n",
       "4                    10      0     0              2               4   \n",
       "...                 ...    ...   ...            ...             ...   \n",
       "32556                13      0     0              2               4   \n",
       "32557                 7      0     0              2               4   \n",
       "32558                 1      0     0              6               4   \n",
       "32559                 1      0     0              4               4   \n",
       "32560                 4  15024     0              2               5   \n",
       "\n",
       "       educationType    race   gender  credit  \n",
       "0                  9   White     Male       0  \n",
       "1                  9   White     Male       0  \n",
       "2                 11   White     Male       0  \n",
       "3                  1   Black     Male       0  \n",
       "4                  9   Black   Female       0  \n",
       "...              ...     ...      ...     ...  \n",
       "32556              7   White   Female       0  \n",
       "32557             11   White     Male       1  \n",
       "32558             11   White   Female       0  \n",
       "32559             11   White     Male       0  \n",
       "32560             11   White   Female       1  \n",
       "\n",
       "[32561 rows x 12 columns]"
      ]
     },
     "execution_count": 7,
     "metadata": {},
     "output_type": "execute_result"
    }
   ],
   "source": [
    "train_data"
   ]
  },
  {
   "cell_type": "code",
   "execution_count": 8,
   "metadata": {},
   "outputs": [
    {
     "data": {
      "text/html": [
       "<div>\n",
       "<style scoped>\n",
       "    .dataframe tbody tr th:only-of-type {\n",
       "        vertical-align: middle;\n",
       "    }\n",
       "\n",
       "    .dataframe tbody tr th {\n",
       "        vertical-align: top;\n",
       "    }\n",
       "\n",
       "    .dataframe thead th {\n",
       "        text-align: right;\n",
       "    }\n",
       "</style>\n",
       "<table border=\"1\" class=\"dataframe\">\n",
       "  <thead>\n",
       "    <tr style=\"text-align: right;\">\n",
       "      <th></th>\n",
       "      <th>yearsSinceLastDegree</th>\n",
       "      <th>hoursWorkedPerWeek</th>\n",
       "      <th>unknownCategoricalVal</th>\n",
       "      <th>typeOfOccupation</th>\n",
       "      <th>gains</th>\n",
       "      <th>loss</th>\n",
       "      <th>maritalStatus</th>\n",
       "      <th>employmentType</th>\n",
       "      <th>educationType</th>\n",
       "      <th>race</th>\n",
       "      <th>gender</th>\n",
       "    </tr>\n",
       "  </thead>\n",
       "  <tbody>\n",
       "    <tr>\n",
       "      <th>0</th>\n",
       "      <td>7</td>\n",
       "      <td>40</td>\n",
       "      <td>3</td>\n",
       "      <td>7</td>\n",
       "      <td>0</td>\n",
       "      <td>0</td>\n",
       "      <td>4</td>\n",
       "      <td>4</td>\n",
       "      <td>1</td>\n",
       "      <td>Black</td>\n",
       "      <td>Male</td>\n",
       "    </tr>\n",
       "    <tr>\n",
       "      <th>1</th>\n",
       "      <td>12</td>\n",
       "      <td>40</td>\n",
       "      <td>0</td>\n",
       "      <td>11</td>\n",
       "      <td>0</td>\n",
       "      <td>0</td>\n",
       "      <td>2</td>\n",
       "      <td>2</td>\n",
       "      <td>7</td>\n",
       "      <td>White</td>\n",
       "      <td>Male</td>\n",
       "    </tr>\n",
       "    <tr>\n",
       "      <th>2</th>\n",
       "      <td>10</td>\n",
       "      <td>40</td>\n",
       "      <td>0</td>\n",
       "      <td>7</td>\n",
       "      <td>7688</td>\n",
       "      <td>0</td>\n",
       "      <td>2</td>\n",
       "      <td>4</td>\n",
       "      <td>15</td>\n",
       "      <td>Black</td>\n",
       "      <td>Male</td>\n",
       "    </tr>\n",
       "    <tr>\n",
       "      <th>3</th>\n",
       "      <td>10</td>\n",
       "      <td>30</td>\n",
       "      <td>3</td>\n",
       "      <td>0</td>\n",
       "      <td>0</td>\n",
       "      <td>0</td>\n",
       "      <td>4</td>\n",
       "      <td>0</td>\n",
       "      <td>15</td>\n",
       "      <td>White</td>\n",
       "      <td>Female</td>\n",
       "    </tr>\n",
       "    <tr>\n",
       "      <th>4</th>\n",
       "      <td>6</td>\n",
       "      <td>30</td>\n",
       "      <td>1</td>\n",
       "      <td>8</td>\n",
       "      <td>0</td>\n",
       "      <td>0</td>\n",
       "      <td>4</td>\n",
       "      <td>4</td>\n",
       "      <td>0</td>\n",
       "      <td>White</td>\n",
       "      <td>Male</td>\n",
       "    </tr>\n",
       "    <tr>\n",
       "      <th>...</th>\n",
       "      <td>...</td>\n",
       "      <td>...</td>\n",
       "      <td>...</td>\n",
       "      <td>...</td>\n",
       "      <td>...</td>\n",
       "      <td>...</td>\n",
       "      <td>...</td>\n",
       "      <td>...</td>\n",
       "      <td>...</td>\n",
       "      <td>...</td>\n",
       "      <td>...</td>\n",
       "    </tr>\n",
       "    <tr>\n",
       "      <th>13300</th>\n",
       "      <td>13</td>\n",
       "      <td>40</td>\n",
       "      <td>3</td>\n",
       "      <td>10</td>\n",
       "      <td>0</td>\n",
       "      <td>0</td>\n",
       "      <td>4</td>\n",
       "      <td>4</td>\n",
       "      <td>9</td>\n",
       "      <td>White</td>\n",
       "      <td>Male</td>\n",
       "    </tr>\n",
       "    <tr>\n",
       "      <th>13301</th>\n",
       "      <td>13</td>\n",
       "      <td>36</td>\n",
       "      <td>1</td>\n",
       "      <td>10</td>\n",
       "      <td>0</td>\n",
       "      <td>0</td>\n",
       "      <td>0</td>\n",
       "      <td>4</td>\n",
       "      <td>9</td>\n",
       "      <td>White</td>\n",
       "      <td>Female</td>\n",
       "    </tr>\n",
       "    <tr>\n",
       "      <th>13302</th>\n",
       "      <td>9</td>\n",
       "      <td>40</td>\n",
       "      <td>2</td>\n",
       "      <td>0</td>\n",
       "      <td>0</td>\n",
       "      <td>0</td>\n",
       "      <td>6</td>\n",
       "      <td>0</td>\n",
       "      <td>11</td>\n",
       "      <td>Black</td>\n",
       "      <td>Male</td>\n",
       "    </tr>\n",
       "    <tr>\n",
       "      <th>13303</th>\n",
       "      <td>13</td>\n",
       "      <td>50</td>\n",
       "      <td>0</td>\n",
       "      <td>10</td>\n",
       "      <td>0</td>\n",
       "      <td>0</td>\n",
       "      <td>2</td>\n",
       "      <td>4</td>\n",
       "      <td>9</td>\n",
       "      <td>White</td>\n",
       "      <td>Male</td>\n",
       "    </tr>\n",
       "    <tr>\n",
       "      <th>13304</th>\n",
       "      <td>13</td>\n",
       "      <td>40</td>\n",
       "      <td>3</td>\n",
       "      <td>1</td>\n",
       "      <td>5455</td>\n",
       "      <td>0</td>\n",
       "      <td>0</td>\n",
       "      <td>4</td>\n",
       "      <td>9</td>\n",
       "      <td>Asian-Pac-Islander</td>\n",
       "      <td>Male</td>\n",
       "    </tr>\n",
       "  </tbody>\n",
       "</table>\n",
       "<p>13305 rows × 11 columns</p>\n",
       "</div>"
      ],
      "text/plain": [
       "       yearsSinceLastDegree  hoursWorkedPerWeek  unknownCategoricalVal  \\\n",
       "0                         7                  40                      3   \n",
       "1                        12                  40                      0   \n",
       "2                        10                  40                      0   \n",
       "3                        10                  30                      3   \n",
       "4                         6                  30                      1   \n",
       "...                     ...                 ...                    ...   \n",
       "13300                    13                  40                      3   \n",
       "13301                    13                  36                      1   \n",
       "13302                     9                  40                      2   \n",
       "13303                    13                  50                      0   \n",
       "13304                    13                  40                      3   \n",
       "\n",
       "       typeOfOccupation  gains  loss  maritalStatus  employmentType  \\\n",
       "0                     7      0     0              4               4   \n",
       "1                    11      0     0              2               2   \n",
       "2                     7   7688     0              2               4   \n",
       "3                     0      0     0              4               0   \n",
       "4                     8      0     0              4               4   \n",
       "...                 ...    ...   ...            ...             ...   \n",
       "13300                10      0     0              4               4   \n",
       "13301                10      0     0              0               4   \n",
       "13302                 0      0     0              6               0   \n",
       "13303                10      0     0              2               4   \n",
       "13304                 1   5455     0              0               4   \n",
       "\n",
       "       educationType                 race   gender  \n",
       "0                  1                Black     Male  \n",
       "1                  7                White     Male  \n",
       "2                 15                Black     Male  \n",
       "3                 15                White   Female  \n",
       "4                  0                White     Male  \n",
       "...              ...                  ...      ...  \n",
       "13300              9                White     Male  \n",
       "13301              9                White   Female  \n",
       "13302             11                Black     Male  \n",
       "13303              9                White     Male  \n",
       "13304              9   Asian-Pac-Islander     Male  \n",
       "\n",
       "[13305 rows x 11 columns]"
      ]
     },
     "execution_count": 8,
     "metadata": {},
     "output_type": "execute_result"
    }
   ],
   "source": [
    "test_data"
   ]
  },
  {
   "cell_type": "markdown",
   "metadata": {},
   "source": [
    "### Encoding gender and race using numerical codes"
   ]
  },
  {
   "cell_type": "code",
   "execution_count": 9,
   "metadata": {
    "scrolled": true
   },
   "outputs": [
    {
     "name": "stdout",
     "output_type": "stream",
     "text": [
      "Distribution of race attribute\n",
      " White                 27816\n",
      " Black                  3124\n",
      " Asian-Pac-Islander     1039\n",
      " Amer-Indian-Eskimo      311\n",
      " Other                   271\n",
      "Name: race, dtype: int64\n",
      "Distribution of gender attribute\n",
      " Male      21790\n",
      " Female    10771\n",
      "Name: gender, dtype: int64\n"
     ]
    }
   ],
   "source": [
    "# For training data\n",
    "\n",
    "print(\"Distribution of race attribute\")\n",
    "print(train_data['race'].value_counts())\n",
    "train_data['race'] = train_data['race'].astype('category')\n",
    "train_data['race_encoded'] = train_data['race'].cat.codes\n",
    "\n",
    "print(\"Distribution of gender attribute\")\n",
    "print(train_data['gender'].value_counts())\n",
    "train_data['gender'] = train_data['gender'].astype('category')\n",
    "train_data['gender_encoded'] = train_data['gender'].cat.codes"
   ]
  },
  {
   "cell_type": "code",
   "execution_count": 10,
   "metadata": {},
   "outputs": [
    {
     "name": "stdout",
     "output_type": "stream",
     "text": [
      "Distribution of race attribute\n",
      " White                 11422\n",
      " Black                  1244\n",
      " Asian-Pac-Islander      386\n",
      " Amer-Indian-Eskimo      138\n",
      " Other                   115\n",
      "Name: race, dtype: int64\n",
      "Distribution of gender attribute\n",
      " Male      8906\n",
      " Female    4399\n",
      "Name: gender, dtype: int64\n"
     ]
    }
   ],
   "source": [
    "# For testing data\n",
    "\n",
    "print(\"Distribution of race attribute\")\n",
    "print(test_data['race'].value_counts())\n",
    "test_data['race'] = test_data['race'].astype('category')\n",
    "test_data['race_encoded'] = test_data['race'].cat.codes\n",
    "\n",
    "print(\"Distribution of gender attribute\")\n",
    "print(test_data['gender'].value_counts())\n",
    "test_data['gender'] = test_data['gender'].astype('category')\n",
    "test_data['gender_encoded'] = test_data['gender'].cat.codes"
   ]
  },
  {
   "cell_type": "markdown",
   "metadata": {},
   "source": [
    "### Normalize continuous feature values"
   ]
  },
  {
   "cell_type": "code",
   "execution_count": 11,
   "metadata": {},
   "outputs": [],
   "source": [
    "def normalize(df):\n",
    "    result = df.copy()\n",
    "    for feature_name in df.columns:\n",
    "        max_value = df[feature_name].max()\n",
    "        min_value = df[feature_name].min()\n",
    "        result[feature_name] = (df[feature_name] - min_value) / (max_value - min_value)\n",
    "    return result"
   ]
  },
  {
   "cell_type": "markdown",
   "metadata": {},
   "source": [
    "#### Before normalization:"
   ]
  },
  {
   "cell_type": "code",
   "execution_count": 12,
   "metadata": {
    "scrolled": true
   },
   "outputs": [
    {
     "data": {
      "text/html": [
       "<div>\n",
       "<style scoped>\n",
       "    .dataframe tbody tr th:only-of-type {\n",
       "        vertical-align: middle;\n",
       "    }\n",
       "\n",
       "    .dataframe tbody tr th {\n",
       "        vertical-align: top;\n",
       "    }\n",
       "\n",
       "    .dataframe thead th {\n",
       "        text-align: right;\n",
       "    }\n",
       "</style>\n",
       "<table border=\"1\" class=\"dataframe\">\n",
       "  <thead>\n",
       "    <tr style=\"text-align: right;\">\n",
       "      <th></th>\n",
       "      <th>yearsSinceLastDegree</th>\n",
       "      <th>hoursWorkedPerWeek</th>\n",
       "      <th>unknownCategoricalVal</th>\n",
       "      <th>typeOfOccupation</th>\n",
       "      <th>gains</th>\n",
       "      <th>loss</th>\n",
       "      <th>maritalStatus</th>\n",
       "      <th>employmentType</th>\n",
       "      <th>educationType</th>\n",
       "      <th>race</th>\n",
       "      <th>gender</th>\n",
       "      <th>credit</th>\n",
       "      <th>race_encoded</th>\n",
       "      <th>gender_encoded</th>\n",
       "    </tr>\n",
       "  </thead>\n",
       "  <tbody>\n",
       "    <tr>\n",
       "      <th>0</th>\n",
       "      <td>13</td>\n",
       "      <td>40</td>\n",
       "      <td>1</td>\n",
       "      <td>1</td>\n",
       "      <td>2174</td>\n",
       "      <td>0</td>\n",
       "      <td>4</td>\n",
       "      <td>7</td>\n",
       "      <td>9</td>\n",
       "      <td>White</td>\n",
       "      <td>Male</td>\n",
       "      <td>0</td>\n",
       "      <td>4</td>\n",
       "      <td>1</td>\n",
       "    </tr>\n",
       "    <tr>\n",
       "      <th>1</th>\n",
       "      <td>13</td>\n",
       "      <td>13</td>\n",
       "      <td>0</td>\n",
       "      <td>4</td>\n",
       "      <td>0</td>\n",
       "      <td>0</td>\n",
       "      <td>2</td>\n",
       "      <td>6</td>\n",
       "      <td>9</td>\n",
       "      <td>White</td>\n",
       "      <td>Male</td>\n",
       "      <td>0</td>\n",
       "      <td>4</td>\n",
       "      <td>1</td>\n",
       "    </tr>\n",
       "    <tr>\n",
       "      <th>2</th>\n",
       "      <td>9</td>\n",
       "      <td>40</td>\n",
       "      <td>1</td>\n",
       "      <td>6</td>\n",
       "      <td>0</td>\n",
       "      <td>0</td>\n",
       "      <td>0</td>\n",
       "      <td>4</td>\n",
       "      <td>11</td>\n",
       "      <td>White</td>\n",
       "      <td>Male</td>\n",
       "      <td>0</td>\n",
       "      <td>4</td>\n",
       "      <td>1</td>\n",
       "    </tr>\n",
       "    <tr>\n",
       "      <th>3</th>\n",
       "      <td>7</td>\n",
       "      <td>40</td>\n",
       "      <td>0</td>\n",
       "      <td>6</td>\n",
       "      <td>0</td>\n",
       "      <td>0</td>\n",
       "      <td>2</td>\n",
       "      <td>4</td>\n",
       "      <td>1</td>\n",
       "      <td>Black</td>\n",
       "      <td>Male</td>\n",
       "      <td>0</td>\n",
       "      <td>2</td>\n",
       "      <td>1</td>\n",
       "    </tr>\n",
       "    <tr>\n",
       "      <th>4</th>\n",
       "      <td>13</td>\n",
       "      <td>40</td>\n",
       "      <td>5</td>\n",
       "      <td>10</td>\n",
       "      <td>0</td>\n",
       "      <td>0</td>\n",
       "      <td>2</td>\n",
       "      <td>4</td>\n",
       "      <td>9</td>\n",
       "      <td>Black</td>\n",
       "      <td>Female</td>\n",
       "      <td>0</td>\n",
       "      <td>2</td>\n",
       "      <td>0</td>\n",
       "    </tr>\n",
       "    <tr>\n",
       "      <th>...</th>\n",
       "      <td>...</td>\n",
       "      <td>...</td>\n",
       "      <td>...</td>\n",
       "      <td>...</td>\n",
       "      <td>...</td>\n",
       "      <td>...</td>\n",
       "      <td>...</td>\n",
       "      <td>...</td>\n",
       "      <td>...</td>\n",
       "      <td>...</td>\n",
       "      <td>...</td>\n",
       "      <td>...</td>\n",
       "      <td>...</td>\n",
       "      <td>...</td>\n",
       "    </tr>\n",
       "    <tr>\n",
       "      <th>32556</th>\n",
       "      <td>12</td>\n",
       "      <td>38</td>\n",
       "      <td>5</td>\n",
       "      <td>13</td>\n",
       "      <td>0</td>\n",
       "      <td>0</td>\n",
       "      <td>2</td>\n",
       "      <td>4</td>\n",
       "      <td>7</td>\n",
       "      <td>White</td>\n",
       "      <td>Female</td>\n",
       "      <td>0</td>\n",
       "      <td>4</td>\n",
       "      <td>0</td>\n",
       "    </tr>\n",
       "    <tr>\n",
       "      <th>32557</th>\n",
       "      <td>9</td>\n",
       "      <td>40</td>\n",
       "      <td>0</td>\n",
       "      <td>7</td>\n",
       "      <td>0</td>\n",
       "      <td>0</td>\n",
       "      <td>2</td>\n",
       "      <td>4</td>\n",
       "      <td>11</td>\n",
       "      <td>White</td>\n",
       "      <td>Male</td>\n",
       "      <td>1</td>\n",
       "      <td>4</td>\n",
       "      <td>1</td>\n",
       "    </tr>\n",
       "    <tr>\n",
       "      <th>32558</th>\n",
       "      <td>9</td>\n",
       "      <td>40</td>\n",
       "      <td>4</td>\n",
       "      <td>1</td>\n",
       "      <td>0</td>\n",
       "      <td>0</td>\n",
       "      <td>6</td>\n",
       "      <td>4</td>\n",
       "      <td>11</td>\n",
       "      <td>White</td>\n",
       "      <td>Female</td>\n",
       "      <td>0</td>\n",
       "      <td>4</td>\n",
       "      <td>0</td>\n",
       "    </tr>\n",
       "    <tr>\n",
       "      <th>32559</th>\n",
       "      <td>9</td>\n",
       "      <td>20</td>\n",
       "      <td>3</td>\n",
       "      <td>1</td>\n",
       "      <td>0</td>\n",
       "      <td>0</td>\n",
       "      <td>4</td>\n",
       "      <td>4</td>\n",
       "      <td>11</td>\n",
       "      <td>White</td>\n",
       "      <td>Male</td>\n",
       "      <td>0</td>\n",
       "      <td>4</td>\n",
       "      <td>1</td>\n",
       "    </tr>\n",
       "    <tr>\n",
       "      <th>32560</th>\n",
       "      <td>9</td>\n",
       "      <td>40</td>\n",
       "      <td>5</td>\n",
       "      <td>4</td>\n",
       "      <td>15024</td>\n",
       "      <td>0</td>\n",
       "      <td>2</td>\n",
       "      <td>5</td>\n",
       "      <td>11</td>\n",
       "      <td>White</td>\n",
       "      <td>Female</td>\n",
       "      <td>1</td>\n",
       "      <td>4</td>\n",
       "      <td>0</td>\n",
       "    </tr>\n",
       "  </tbody>\n",
       "</table>\n",
       "<p>32561 rows × 14 columns</p>\n",
       "</div>"
      ],
      "text/plain": [
       "       yearsSinceLastDegree  hoursWorkedPerWeek  unknownCategoricalVal  \\\n",
       "0                        13                  40                      1   \n",
       "1                        13                  13                      0   \n",
       "2                         9                  40                      1   \n",
       "3                         7                  40                      0   \n",
       "4                        13                  40                      5   \n",
       "...                     ...                 ...                    ...   \n",
       "32556                    12                  38                      5   \n",
       "32557                     9                  40                      0   \n",
       "32558                     9                  40                      4   \n",
       "32559                     9                  20                      3   \n",
       "32560                     9                  40                      5   \n",
       "\n",
       "       typeOfOccupation  gains  loss  maritalStatus  employmentType  \\\n",
       "0                     1   2174     0              4               7   \n",
       "1                     4      0     0              2               6   \n",
       "2                     6      0     0              0               4   \n",
       "3                     6      0     0              2               4   \n",
       "4                    10      0     0              2               4   \n",
       "...                 ...    ...   ...            ...             ...   \n",
       "32556                13      0     0              2               4   \n",
       "32557                 7      0     0              2               4   \n",
       "32558                 1      0     0              6               4   \n",
       "32559                 1      0     0              4               4   \n",
       "32560                 4  15024     0              2               5   \n",
       "\n",
       "       educationType    race   gender  credit  race_encoded  gender_encoded  \n",
       "0                  9   White     Male       0             4               1  \n",
       "1                  9   White     Male       0             4               1  \n",
       "2                 11   White     Male       0             4               1  \n",
       "3                  1   Black     Male       0             2               1  \n",
       "4                  9   Black   Female       0             2               0  \n",
       "...              ...     ...      ...     ...           ...             ...  \n",
       "32556              7   White   Female       0             4               0  \n",
       "32557             11   White     Male       1             4               1  \n",
       "32558             11   White   Female       0             4               0  \n",
       "32559             11   White     Male       0             4               1  \n",
       "32560             11   White   Female       1             4               0  \n",
       "\n",
       "[32561 rows x 14 columns]"
      ]
     },
     "execution_count": 12,
     "metadata": {},
     "output_type": "execute_result"
    }
   ],
   "source": [
    "train_data"
   ]
  },
  {
   "cell_type": "markdown",
   "metadata": {},
   "source": [
    "#### Performing normalization in train and test dataset"
   ]
  },
  {
   "cell_type": "code",
   "execution_count": 13,
   "metadata": {},
   "outputs": [],
   "source": [
    "continuous_attributes = ['hoursWorkedPerWeek','yearsSinceLastDegree','gains','loss']\n",
    "train_data[continuous_attributes] = normalize(train_data[continuous_attributes])\n",
    "test_data[continuous_attributes] = normalize(test_data[continuous_attributes])"
   ]
  },
  {
   "cell_type": "markdown",
   "metadata": {},
   "source": [
    "#### After normalization:"
   ]
  },
  {
   "cell_type": "code",
   "execution_count": 14,
   "metadata": {
    "scrolled": true
   },
   "outputs": [
    {
     "data": {
      "text/html": [
       "<div>\n",
       "<style scoped>\n",
       "    .dataframe tbody tr th:only-of-type {\n",
       "        vertical-align: middle;\n",
       "    }\n",
       "\n",
       "    .dataframe tbody tr th {\n",
       "        vertical-align: top;\n",
       "    }\n",
       "\n",
       "    .dataframe thead th {\n",
       "        text-align: right;\n",
       "    }\n",
       "</style>\n",
       "<table border=\"1\" class=\"dataframe\">\n",
       "  <thead>\n",
       "    <tr style=\"text-align: right;\">\n",
       "      <th></th>\n",
       "      <th>yearsSinceLastDegree</th>\n",
       "      <th>hoursWorkedPerWeek</th>\n",
       "      <th>unknownCategoricalVal</th>\n",
       "      <th>typeOfOccupation</th>\n",
       "      <th>gains</th>\n",
       "      <th>loss</th>\n",
       "      <th>maritalStatus</th>\n",
       "      <th>employmentType</th>\n",
       "      <th>educationType</th>\n",
       "      <th>race</th>\n",
       "      <th>gender</th>\n",
       "      <th>credit</th>\n",
       "      <th>race_encoded</th>\n",
       "      <th>gender_encoded</th>\n",
       "    </tr>\n",
       "  </thead>\n",
       "  <tbody>\n",
       "    <tr>\n",
       "      <th>0</th>\n",
       "      <td>0.800000</td>\n",
       "      <td>0.397959</td>\n",
       "      <td>1</td>\n",
       "      <td>1</td>\n",
       "      <td>0.021740</td>\n",
       "      <td>0.0</td>\n",
       "      <td>4</td>\n",
       "      <td>7</td>\n",
       "      <td>9</td>\n",
       "      <td>White</td>\n",
       "      <td>Male</td>\n",
       "      <td>0</td>\n",
       "      <td>4</td>\n",
       "      <td>1</td>\n",
       "    </tr>\n",
       "    <tr>\n",
       "      <th>1</th>\n",
       "      <td>0.800000</td>\n",
       "      <td>0.122449</td>\n",
       "      <td>0</td>\n",
       "      <td>4</td>\n",
       "      <td>0.000000</td>\n",
       "      <td>0.0</td>\n",
       "      <td>2</td>\n",
       "      <td>6</td>\n",
       "      <td>9</td>\n",
       "      <td>White</td>\n",
       "      <td>Male</td>\n",
       "      <td>0</td>\n",
       "      <td>4</td>\n",
       "      <td>1</td>\n",
       "    </tr>\n",
       "    <tr>\n",
       "      <th>2</th>\n",
       "      <td>0.533333</td>\n",
       "      <td>0.397959</td>\n",
       "      <td>1</td>\n",
       "      <td>6</td>\n",
       "      <td>0.000000</td>\n",
       "      <td>0.0</td>\n",
       "      <td>0</td>\n",
       "      <td>4</td>\n",
       "      <td>11</td>\n",
       "      <td>White</td>\n",
       "      <td>Male</td>\n",
       "      <td>0</td>\n",
       "      <td>4</td>\n",
       "      <td>1</td>\n",
       "    </tr>\n",
       "    <tr>\n",
       "      <th>3</th>\n",
       "      <td>0.400000</td>\n",
       "      <td>0.397959</td>\n",
       "      <td>0</td>\n",
       "      <td>6</td>\n",
       "      <td>0.000000</td>\n",
       "      <td>0.0</td>\n",
       "      <td>2</td>\n",
       "      <td>4</td>\n",
       "      <td>1</td>\n",
       "      <td>Black</td>\n",
       "      <td>Male</td>\n",
       "      <td>0</td>\n",
       "      <td>2</td>\n",
       "      <td>1</td>\n",
       "    </tr>\n",
       "    <tr>\n",
       "      <th>4</th>\n",
       "      <td>0.800000</td>\n",
       "      <td>0.397959</td>\n",
       "      <td>5</td>\n",
       "      <td>10</td>\n",
       "      <td>0.000000</td>\n",
       "      <td>0.0</td>\n",
       "      <td>2</td>\n",
       "      <td>4</td>\n",
       "      <td>9</td>\n",
       "      <td>Black</td>\n",
       "      <td>Female</td>\n",
       "      <td>0</td>\n",
       "      <td>2</td>\n",
       "      <td>0</td>\n",
       "    </tr>\n",
       "    <tr>\n",
       "      <th>...</th>\n",
       "      <td>...</td>\n",
       "      <td>...</td>\n",
       "      <td>...</td>\n",
       "      <td>...</td>\n",
       "      <td>...</td>\n",
       "      <td>...</td>\n",
       "      <td>...</td>\n",
       "      <td>...</td>\n",
       "      <td>...</td>\n",
       "      <td>...</td>\n",
       "      <td>...</td>\n",
       "      <td>...</td>\n",
       "      <td>...</td>\n",
       "      <td>...</td>\n",
       "    </tr>\n",
       "    <tr>\n",
       "      <th>32556</th>\n",
       "      <td>0.733333</td>\n",
       "      <td>0.377551</td>\n",
       "      <td>5</td>\n",
       "      <td>13</td>\n",
       "      <td>0.000000</td>\n",
       "      <td>0.0</td>\n",
       "      <td>2</td>\n",
       "      <td>4</td>\n",
       "      <td>7</td>\n",
       "      <td>White</td>\n",
       "      <td>Female</td>\n",
       "      <td>0</td>\n",
       "      <td>4</td>\n",
       "      <td>0</td>\n",
       "    </tr>\n",
       "    <tr>\n",
       "      <th>32557</th>\n",
       "      <td>0.533333</td>\n",
       "      <td>0.397959</td>\n",
       "      <td>0</td>\n",
       "      <td>7</td>\n",
       "      <td>0.000000</td>\n",
       "      <td>0.0</td>\n",
       "      <td>2</td>\n",
       "      <td>4</td>\n",
       "      <td>11</td>\n",
       "      <td>White</td>\n",
       "      <td>Male</td>\n",
       "      <td>1</td>\n",
       "      <td>4</td>\n",
       "      <td>1</td>\n",
       "    </tr>\n",
       "    <tr>\n",
       "      <th>32558</th>\n",
       "      <td>0.533333</td>\n",
       "      <td>0.397959</td>\n",
       "      <td>4</td>\n",
       "      <td>1</td>\n",
       "      <td>0.000000</td>\n",
       "      <td>0.0</td>\n",
       "      <td>6</td>\n",
       "      <td>4</td>\n",
       "      <td>11</td>\n",
       "      <td>White</td>\n",
       "      <td>Female</td>\n",
       "      <td>0</td>\n",
       "      <td>4</td>\n",
       "      <td>0</td>\n",
       "    </tr>\n",
       "    <tr>\n",
       "      <th>32559</th>\n",
       "      <td>0.533333</td>\n",
       "      <td>0.193878</td>\n",
       "      <td>3</td>\n",
       "      <td>1</td>\n",
       "      <td>0.000000</td>\n",
       "      <td>0.0</td>\n",
       "      <td>4</td>\n",
       "      <td>4</td>\n",
       "      <td>11</td>\n",
       "      <td>White</td>\n",
       "      <td>Male</td>\n",
       "      <td>0</td>\n",
       "      <td>4</td>\n",
       "      <td>1</td>\n",
       "    </tr>\n",
       "    <tr>\n",
       "      <th>32560</th>\n",
       "      <td>0.533333</td>\n",
       "      <td>0.397959</td>\n",
       "      <td>5</td>\n",
       "      <td>4</td>\n",
       "      <td>0.150242</td>\n",
       "      <td>0.0</td>\n",
       "      <td>2</td>\n",
       "      <td>5</td>\n",
       "      <td>11</td>\n",
       "      <td>White</td>\n",
       "      <td>Female</td>\n",
       "      <td>1</td>\n",
       "      <td>4</td>\n",
       "      <td>0</td>\n",
       "    </tr>\n",
       "  </tbody>\n",
       "</table>\n",
       "<p>32561 rows × 14 columns</p>\n",
       "</div>"
      ],
      "text/plain": [
       "       yearsSinceLastDegree  hoursWorkedPerWeek  unknownCategoricalVal  \\\n",
       "0                  0.800000            0.397959                      1   \n",
       "1                  0.800000            0.122449                      0   \n",
       "2                  0.533333            0.397959                      1   \n",
       "3                  0.400000            0.397959                      0   \n",
       "4                  0.800000            0.397959                      5   \n",
       "...                     ...                 ...                    ...   \n",
       "32556              0.733333            0.377551                      5   \n",
       "32557              0.533333            0.397959                      0   \n",
       "32558              0.533333            0.397959                      4   \n",
       "32559              0.533333            0.193878                      3   \n",
       "32560              0.533333            0.397959                      5   \n",
       "\n",
       "       typeOfOccupation     gains  loss  maritalStatus  employmentType  \\\n",
       "0                     1  0.021740   0.0              4               7   \n",
       "1                     4  0.000000   0.0              2               6   \n",
       "2                     6  0.000000   0.0              0               4   \n",
       "3                     6  0.000000   0.0              2               4   \n",
       "4                    10  0.000000   0.0              2               4   \n",
       "...                 ...       ...   ...            ...             ...   \n",
       "32556                13  0.000000   0.0              2               4   \n",
       "32557                 7  0.000000   0.0              2               4   \n",
       "32558                 1  0.000000   0.0              6               4   \n",
       "32559                 1  0.000000   0.0              4               4   \n",
       "32560                 4  0.150242   0.0              2               5   \n",
       "\n",
       "       educationType    race   gender  credit  race_encoded  gender_encoded  \n",
       "0                  9   White     Male       0             4               1  \n",
       "1                  9   White     Male       0             4               1  \n",
       "2                 11   White     Male       0             4               1  \n",
       "3                  1   Black     Male       0             2               1  \n",
       "4                  9   Black   Female       0             2               0  \n",
       "...              ...     ...      ...     ...           ...             ...  \n",
       "32556              7   White   Female       0             4               0  \n",
       "32557             11   White     Male       1             4               1  \n",
       "32558             11   White   Female       0             4               0  \n",
       "32559             11   White     Male       0             4               1  \n",
       "32560             11   White   Female       1             4               0  \n",
       "\n",
       "[32561 rows x 14 columns]"
      ]
     },
     "execution_count": 14,
     "metadata": {},
     "output_type": "execute_result"
    }
   ],
   "source": [
    "train_data"
   ]
  },
  {
   "cell_type": "code",
   "execution_count": 15,
   "metadata": {},
   "outputs": [
    {
     "data": {
      "text/plain": [
       "['yearsSinceLastDegree',\n",
       " 'hoursWorkedPerWeek',\n",
       " 'unknownCategoricalVal',\n",
       " 'typeOfOccupation',\n",
       " 'gains',\n",
       " 'loss',\n",
       " 'maritalStatus',\n",
       " 'employmentType',\n",
       " 'educationType',\n",
       " 'race_encoded',\n",
       " 'gender_encoded']"
      ]
     },
     "execution_count": 15,
     "metadata": {},
     "output_type": "execute_result"
    }
   ],
   "source": [
    "feature_cols = list(train_data.columns)\n",
    "feature_cols.remove('credit')\n",
    "feature_cols.remove('gender')\n",
    "feature_cols.remove('race')\n",
    "\n",
    "feature_cols"
   ]
  },
  {
   "cell_type": "markdown",
   "metadata": {},
   "source": [
    "### Convert all features to datatype 'float' for consistency among datatypes"
   ]
  },
  {
   "cell_type": "markdown",
   "metadata": {},
   "source": [
    "### Before:"
   ]
  },
  {
   "cell_type": "code",
   "execution_count": 16,
   "metadata": {
    "scrolled": true
   },
   "outputs": [
    {
     "name": "stdout",
     "output_type": "stream",
     "text": [
      "<class 'pandas.core.frame.DataFrame'>\n",
      "RangeIndex: 32561 entries, 0 to 32560\n",
      "Data columns (total 14 columns):\n",
      " #   Column                 Non-Null Count  Dtype   \n",
      "---  ------                 --------------  -----   \n",
      " 0   yearsSinceLastDegree   32561 non-null  float64 \n",
      " 1   hoursWorkedPerWeek     32561 non-null  float64 \n",
      " 2   unknownCategoricalVal  32561 non-null  int64   \n",
      " 3   typeOfOccupation       32561 non-null  int64   \n",
      " 4   gains                  32561 non-null  float64 \n",
      " 5   loss                   32561 non-null  float64 \n",
      " 6   maritalStatus          32561 non-null  int64   \n",
      " 7   employmentType         32561 non-null  int64   \n",
      " 8   educationType          32561 non-null  int64   \n",
      " 9   race                   32561 non-null  category\n",
      " 10  gender                 32561 non-null  category\n",
      " 11  credit                 32561 non-null  int64   \n",
      " 12  race_encoded           32561 non-null  int8    \n",
      " 13  gender_encoded         32561 non-null  int8    \n",
      "dtypes: category(2), float64(4), int64(6), int8(2)\n",
      "memory usage: 2.6 MB\n"
     ]
    }
   ],
   "source": [
    "train_data.info()"
   ]
  },
  {
   "cell_type": "code",
   "execution_count": 17,
   "metadata": {},
   "outputs": [],
   "source": [
    "train_data[feature_cols] = train_data[feature_cols].astype('float')\n",
    "test_data[feature_cols] = test_data[feature_cols].astype('float')"
   ]
  },
  {
   "cell_type": "markdown",
   "metadata": {},
   "source": [
    "### After:"
   ]
  },
  {
   "cell_type": "code",
   "execution_count": 18,
   "metadata": {
    "scrolled": true
   },
   "outputs": [
    {
     "name": "stdout",
     "output_type": "stream",
     "text": [
      "<class 'pandas.core.frame.DataFrame'>\n",
      "RangeIndex: 32561 entries, 0 to 32560\n",
      "Data columns (total 14 columns):\n",
      " #   Column                 Non-Null Count  Dtype   \n",
      "---  ------                 --------------  -----   \n",
      " 0   yearsSinceLastDegree   32561 non-null  float64 \n",
      " 1   hoursWorkedPerWeek     32561 non-null  float64 \n",
      " 2   unknownCategoricalVal  32561 non-null  float64 \n",
      " 3   typeOfOccupation       32561 non-null  float64 \n",
      " 4   gains                  32561 non-null  float64 \n",
      " 5   loss                   32561 non-null  float64 \n",
      " 6   maritalStatus          32561 non-null  float64 \n",
      " 7   employmentType         32561 non-null  float64 \n",
      " 8   educationType          32561 non-null  float64 \n",
      " 9   race                   32561 non-null  category\n",
      " 10  gender                 32561 non-null  category\n",
      " 11  credit                 32561 non-null  int64   \n",
      " 12  race_encoded           32561 non-null  float64 \n",
      " 13  gender_encoded         32561 non-null  float64 \n",
      "dtypes: category(2), float64(11), int64(1)\n",
      "memory usage: 3.0 MB\n"
     ]
    }
   ],
   "source": [
    "train_data.info()"
   ]
  },
  {
   "cell_type": "markdown",
   "metadata": {},
   "source": [
    "### Calculating feature importance"
   ]
  },
  {
   "cell_type": "code",
   "execution_count": 19,
   "metadata": {
    "scrolled": false
   },
   "outputs": [
    {
     "name": "stdout",
     "output_type": "stream",
     "text": [
      "Feature: 0, Score: 0.12309\n",
      "Feature: 1, Score: 0.15176\n",
      "Feature: 2, Score: 0.16500\n",
      "Feature: 3, Score: 0.10025\n",
      "Feature: 4, Score: 0.16924\n",
      "Feature: 5, Score: 0.05767\n",
      "Feature: 6, Score: 0.08959\n",
      "Feature: 7, Score: 0.06229\n",
      "Feature: 8, Score: 0.03952\n",
      "Feature: 9, Score: 0.02659\n",
      "Feature: 10, Score: 0.01499\n"
     ]
    },
    {
     "data": {
      "image/png": "[encoded data removed]",
      "text/plain": [
       "<Figure size 432x288 with 1 Axes>"
      ]
     },
     "metadata": {
      "needs_background": "light"
     },
     "output_type": "display_data"
    }
   ],
   "source": [
    "# random forest for feature importance on a classification problem\n",
    "from sklearn.ensemble import RandomForestClassifier, RandomForestRegressor\n",
    "from matplotlib import pyplot\n",
    "# define the model\n",
    "model = RandomForestClassifier(random_state=101)\n",
    "# fit the model\n",
    "model.fit(train_data[feature_cols], train_data['credit'])\n",
    "# get importance\n",
    "importance = model.feature_importances_\n",
    "# summarize feature importance\n",
    "for i,v in enumerate(importance):\n",
    "    print('Feature: %s, Score: %.5f' % (i,v))\n",
    "# plot feature importance\n",
    "pyplot.bar([x for x in range(len(importance))], importance)\n",
    "pyplot.show()"
   ]
  },
  {
   "cell_type": "markdown",
   "metadata": {},
   "source": [
    "### Planned on removing race_encoded and gender_encoded due to low importance, but reduced F1 score on Miner. Hence keeping them as is."
   ]
  },
  {
   "cell_type": "code",
   "execution_count": 20,
   "metadata": {},
   "outputs": [
    {
     "data": {
      "text/plain": [
       "['yearsSinceLastDegree',\n",
       " 'hoursWorkedPerWeek',\n",
       " 'unknownCategoricalVal',\n",
       " 'typeOfOccupation',\n",
       " 'gains',\n",
       " 'loss',\n",
       " 'maritalStatus',\n",
       " 'employmentType',\n",
       " 'educationType',\n",
       " 'race_encoded',\n",
       " 'gender_encoded']"
      ]
     },
     "execution_count": 20,
     "metadata": {},
     "output_type": "execute_result"
    }
   ],
   "source": [
    "# feature_cols.remove('race_encoded')\n",
    "# feature_cols.remove('gender_encoded')\n",
    "\n",
    "feature_cols"
   ]
  },
  {
   "cell_type": "markdown",
   "metadata": {},
   "source": [
    "## Upsampling/downsampling to take care of imbalanced classes in dataset"
   ]
  },
  {
   "cell_type": "code",
   "execution_count": 21,
   "metadata": {},
   "outputs": [
    {
     "data": {
      "text/plain": [
       "Counter({0: 24720, 1: 7841})"
      ]
     },
     "execution_count": 21,
     "metadata": {},
     "output_type": "execute_result"
    }
   ],
   "source": [
    "from collections import Counter\n",
    "a = Counter(train_data['credit'])\n",
    "a"
   ]
  },
  {
   "cell_type": "code",
   "execution_count": 22,
   "metadata": {},
   "outputs": [],
   "source": [
    "from sklearn.utils import resample"
   ]
  },
  {
   "cell_type": "markdown",
   "metadata": {},
   "source": [
    "## Downsampling"
   ]
  },
  {
   "cell_type": "code",
   "execution_count": 23,
   "metadata": {},
   "outputs": [
    {
     "data": {
      "text/plain": [
       "1    7841\n",
       "0    7841\n",
       "Name: credit, dtype: int64"
      ]
     },
     "execution_count": 23,
     "metadata": {},
     "output_type": "execute_result"
    }
   ],
   "source": [
    "train_data_majority = train_data[train_data['credit']==0]\n",
    "train_data_minority = train_data[train_data['credit']==1]\n",
    "\n",
    "train_data_majority_downsampled = resample(train_data_majority, \n",
    "                                 replace=False,                          # sample without replacement\n",
    "                                 n_samples=len(train_data_minority),     # to match minority class size\n",
    "                                 random_state=123)                       # reproducible results\n",
    "\n",
    "\n",
    "# Combine minority class with downsampled majority class\n",
    "train_data_downsampled = pd.concat([train_data_majority_downsampled, train_data_minority])\n",
    " \n",
    "# Display new class counts\n",
    "train_data_downsampled['credit'].value_counts()"
   ]
  },
  {
   "cell_type": "code",
   "execution_count": 24,
   "metadata": {},
   "outputs": [
    {
     "data": {
      "text/plain": [
       "15682"
      ]
     },
     "execution_count": 24,
     "metadata": {},
     "output_type": "execute_result"
    }
   ],
   "source": [
    "len(train_data_downsampled)"
   ]
  },
  {
   "cell_type": "markdown",
   "metadata": {},
   "source": [
    "## Upsampling"
   ]
  },
  {
   "cell_type": "code",
   "execution_count": 25,
   "metadata": {},
   "outputs": [
    {
     "data": {
      "text/plain": [
       "1    24720\n",
       "0    24720\n",
       "Name: credit, dtype: int64"
      ]
     },
     "execution_count": 25,
     "metadata": {},
     "output_type": "execute_result"
    }
   ],
   "source": [
    "train_data_majority = train_data[train_data['credit']==0]\n",
    "train_data_minority = train_data[train_data['credit']==1]\n",
    "\n",
    "train_data_minority_upsampled = resample(train_data_minority, \n",
    "                                 replace=True,                  # sample without replacement\n",
    "                                 n_samples=len(train_data_majority),     # to match minority class\n",
    "                                 random_state=123)               # reproducible results\n",
    "\n",
    "\n",
    "# Combine minority class with downsampled majority class\n",
    "train_data_upsampled = pd.concat([train_data_minority_upsampled, train_data_majority])\n",
    " \n",
    "# Display new class counts\n",
    "train_data_upsampled['credit'].value_counts()"
   ]
  },
  {
   "cell_type": "code",
   "execution_count": 26,
   "metadata": {},
   "outputs": [
    {
     "data": {
      "text/plain": [
       "49440"
      ]
     },
     "execution_count": 26,
     "metadata": {},
     "output_type": "execute_result"
    }
   ],
   "source": [
    "len(train_data_upsampled)"
   ]
  },
  {
   "cell_type": "markdown",
   "metadata": {},
   "source": [
    "## Upsampled dataset"
   ]
  },
  {
   "cell_type": "code",
   "execution_count": 27,
   "metadata": {},
   "outputs": [],
   "source": [
    "X_train = train_data_upsampled[feature_cols]\n",
    "X_test = test_data[feature_cols]\n",
    "y_train = train_data_upsampled['credit']"
   ]
  },
  {
   "cell_type": "code",
   "execution_count": 28,
   "metadata": {
    "scrolled": false
   },
   "outputs": [
    {
     "data": {
      "text/plain": [
       "(49440, 11)"
      ]
     },
     "execution_count": 28,
     "metadata": {},
     "output_type": "execute_result"
    }
   ],
   "source": [
    "X_train.shape"
   ]
  },
  {
   "cell_type": "code",
   "execution_count": 29,
   "metadata": {
    "scrolled": true
   },
   "outputs": [
    {
     "data": {
      "text/plain": [
       "(13305, 11)"
      ]
     },
     "execution_count": 29,
     "metadata": {},
     "output_type": "execute_result"
    }
   ],
   "source": [
    "X_test.shape"
   ]
  },
  {
   "cell_type": "markdown",
   "metadata": {},
   "source": [
    "## Normal dataset"
   ]
  },
  {
   "cell_type": "code",
   "execution_count": 30,
   "metadata": {},
   "outputs": [],
   "source": [
    "X_train = train_data[feature_cols]\n",
    "X_test = test_data[feature_cols]\n",
    "y_train = train_data['credit']"
   ]
  },
  {
   "cell_type": "code",
   "execution_count": 31,
   "metadata": {},
   "outputs": [
    {
     "data": {
      "text/plain": [
       "(32561, 11)"
      ]
     },
     "execution_count": 31,
     "metadata": {},
     "output_type": "execute_result"
    }
   ],
   "source": [
    "X_train.shape"
   ]
  },
  {
   "cell_type": "code",
   "execution_count": 32,
   "metadata": {},
   "outputs": [
    {
     "data": {
      "text/plain": [
       "(13305, 11)"
      ]
     },
     "execution_count": 32,
     "metadata": {},
     "output_type": "execute_result"
    }
   ],
   "source": [
    "X_test.shape"
   ]
  },
  {
   "cell_type": "markdown",
   "metadata": {},
   "source": [
    "## Downsampled dataset"
   ]
  },
  {
   "cell_type": "code",
   "execution_count": 33,
   "metadata": {},
   "outputs": [],
   "source": [
    "X_train = train_data_downsampled[feature_cols]\n",
    "X_test = test_data[feature_cols]\n",
    "y_train = train_data_downsampled['credit']"
   ]
  },
  {
   "cell_type": "code",
   "execution_count": 34,
   "metadata": {
    "scrolled": true
   },
   "outputs": [
    {
     "data": {
      "text/plain": [
       "(15682, 11)"
      ]
     },
     "execution_count": 34,
     "metadata": {},
     "output_type": "execute_result"
    }
   ],
   "source": [
    "X_train.shape"
   ]
  },
  {
   "cell_type": "code",
   "execution_count": 35,
   "metadata": {},
   "outputs": [
    {
     "data": {
      "text/plain": [
       "(13305, 11)"
      ]
     },
     "execution_count": 35,
     "metadata": {},
     "output_type": "execute_result"
    }
   ],
   "source": [
    "X_test.shape"
   ]
  },
  {
   "cell_type": "markdown",
   "metadata": {},
   "source": [
    "## Testing with various classification models:\n",
    " - Logistic regression\n",
    " - KNN\n",
    " - Decision Tree\n",
    " - Random Forest Ensemble Learning\n",
    " - Multi Layer Perceptron Classifier (Neural Network)"
   ]
  },
  {
   "cell_type": "markdown",
   "metadata": {},
   "source": [
    "- ### Logistic Regression:"
   ]
  },
  {
   "cell_type": "code",
   "execution_count": 36,
   "metadata": {
    "scrolled": true
   },
   "outputs": [],
   "source": [
    "from sklearn.linear_model import LogisticRegression\n",
    "lr = LogisticRegression(max_iter=40000)\n",
    "\n",
    "lr.fit(X_train, y_train)\n",
    "y_pred = lr.predict(X_test)"
   ]
  },
  {
   "cell_type": "code",
   "execution_count": 37,
   "metadata": {
    "scrolled": true
   },
   "outputs": [
    {
     "name": "stdout",
     "output_type": "stream",
     "text": [
      "Wrote 13305 items successfully to pred_values.txt\n"
     ]
    }
   ],
   "source": [
    "with open('output/logistic_pred_values.txt', 'w') as filehandle:\n",
    "    for listitem in y_pred:\n",
    "        filehandle.write('%s\\n' % listitem)\n",
    "    print(\"Wrote\",len(y_pred),\"items successfully to pred_values.txt\")"
   ]
  },
  {
   "cell_type": "markdown",
   "metadata": {},
   "source": [
    "- ### KNN:"
   ]
  },
  {
   "cell_type": "code",
   "execution_count": 38,
   "metadata": {},
   "outputs": [],
   "source": [
    "from sklearn import metrics\n",
    "from sklearn.neighbors import KNeighborsClassifier\n",
    "\n",
    "knn = KNeighborsClassifier(n_neighbors = 3, n_jobs=-1)\n",
    "knn.fit(X_train, y_train)\n",
    "y_pred = knn.predict(X_test)"
   ]
  },
  {
   "cell_type": "code",
   "execution_count": 39,
   "metadata": {
    "scrolled": true
   },
   "outputs": [
    {
     "name": "stdout",
     "output_type": "stream",
     "text": [
      "Wrote 13305 items successfully to pred_values.txt\n"
     ]
    }
   ],
   "source": [
    "with open('output/knn_pred_values.txt', 'w') as filehandle:\n",
    "    for listitem in y_pred:\n",
    "        filehandle.write('%s\\n' % listitem)\n",
    "    print(\"Wrote\",len(y_pred),\"items successfully to pred_values.txt\")"
   ]
  },
  {
   "cell_type": "markdown",
   "metadata": {},
   "source": [
    "- ### Decision Tree:"
   ]
  },
  {
   "cell_type": "code",
   "execution_count": 40,
   "metadata": {},
   "outputs": [],
   "source": [
    " # Decision Tree\n",
    "from sklearn.tree import DecisionTreeClassifier\n",
    "\n",
    "clf = DecisionTreeClassifier(criterion='gini', max_depth=30)\n",
    "clf.fit(X_train, y_train)\n",
    "y_pred = clf.predict(X_test)"
   ]
  },
  {
   "cell_type": "code",
   "execution_count": 41,
   "metadata": {
    "scrolled": true
   },
   "outputs": [
    {
     "name": "stdout",
     "output_type": "stream",
     "text": [
      "Wrote 13305 items successfully to pred_values.txt\n"
     ]
    }
   ],
   "source": [
    "with open('output/decision_tree_pred_values.txt', 'w') as filehandle:\n",
    "    for listitem in y_pred:\n",
    "        filehandle.write('%s\\n' % listitem)\n",
    "    print(\"Wrote\",len(y_pred),\"items successfully to pred_values.txt\")"
   ]
  },
  {
   "cell_type": "markdown",
   "metadata": {},
   "source": [
    "- ### Random Forest Classifier:"
   ]
  },
  {
   "cell_type": "code",
   "execution_count": 42,
   "metadata": {
    "scrolled": true
   },
   "outputs": [],
   "source": [
    "# Random Forest Classifier\n",
    "from sklearn.ensemble import RandomForestClassifier\n",
    "rfm = RandomForestClassifier(n_estimators=80, oob_score=False, n_jobs=-1, min_samples_leaf=10, max_leaf_nodes=100, max_depth=20)\n",
    "rfm.fit(X_train, y_train)\n",
    "y_pred = rfm.predict(X_test)"
   ]
  },
  {
   "cell_type": "code",
   "execution_count": 43,
   "metadata": {
    "scrolled": true
   },
   "outputs": [
    {
     "name": "stdout",
     "output_type": "stream",
     "text": [
      "Wrote 13305 items successfully to pred_values.txt\n"
     ]
    }
   ],
   "source": [
    "with open('output/random_forest_pred_values.txt', 'w') as filehandle:\n",
    "    for listitem in y_pred:\n",
    "        filehandle.write('%s\\n' % listitem)\n",
    "    print(\"Wrote\",len(y_pred),\"items successfully to pred_values.txt\")"
   ]
  },
  {
   "cell_type": "markdown",
   "metadata": {},
   "source": [
    "- ### Multi Layer Perceptron Classifier (Neural Network):"
   ]
  },
  {
   "cell_type": "code",
   "execution_count": 44,
   "metadata": {
    "scrolled": true
   },
   "outputs": [],
   "source": [
    "from sklearn.neural_network import MLPClassifier\n",
    "\n",
    "multi_layer_perceptron = MLPClassifier(alpha=1, max_iter=1000, hidden_layer_sizes=(30,30,30))\n",
    "multi_layer_perceptron.fit(X_train, y_train)\n",
    "y_pred = multi_layer_perceptron.predict(X_test)"
   ]
  },
  {
   "cell_type": "code",
   "execution_count": 45,
   "metadata": {
    "scrolled": true
   },
   "outputs": [
    {
     "name": "stdout",
     "output_type": "stream",
     "text": [
      "Wrote 13305 items successfully to pred_values.txt\n"
     ]
    }
   ],
   "source": [
    "with open('output/mlp_pred_values.txt', 'w') as filehandle:\n",
    "    for listitem in y_pred:\n",
    "        filehandle.write('%s\\n' % listitem)\n",
    "    print(\"Wrote\",len(y_pred),\"items successfully to pred_values.txt\")"
   ]
  },
  {
   "cell_type": "code",
   "execution_count": null,
   "metadata": {},
   "outputs": [],
   "source": []
  }
 ],
 "metadata": {
  "kernelspec": {
   "display_name": "Python 3",
   "language": "python",
   "name": "python3"
  },
  "language_info": {
   "codemirror_mode": {
    "name": "ipython",
    "version": 3
   },
   "file_extension": ".py",
   "mimetype": "text/x-python",
   "name": "python",
   "nbconvert_exporter": "python",
   "pygments_lexer": "ipython3",
   "version": "3.8.3"
  }
 },
 "nbformat": 4,
 "nbformat_minor": 4
}
