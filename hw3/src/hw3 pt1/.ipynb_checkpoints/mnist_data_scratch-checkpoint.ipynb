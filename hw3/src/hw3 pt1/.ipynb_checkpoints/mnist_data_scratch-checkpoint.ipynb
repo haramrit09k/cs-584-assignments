{
 "cells": [
  {
   "cell_type": "code",
   "execution_count": 17,
   "metadata": {},
   "outputs": [],
   "source": [
    "import pandas as pd\n",
    "import numpy as np\n",
    "import matplotlib.pyplot as plt"
   ]
  },
  {
   "cell_type": "code",
   "execution_count": 18,
   "metadata": {
    "scrolled": true
   },
   "outputs": [
    {
     "data": {
      "text/html": [
       "<div>\n",
       "<style scoped>\n",
       "    .dataframe tbody tr th:only-of-type {\n",
       "        vertical-align: middle;\n",
       "    }\n",
       "\n",
       "    .dataframe tbody tr th {\n",
       "        vertical-align: top;\n",
       "    }\n",
       "\n",
       "    .dataframe thead th {\n",
       "        text-align: right;\n",
       "    }\n",
       "</style>\n",
       "<table border=\"1\" class=\"dataframe\">\n",
       "  <thead>\n",
       "    <tr style=\"text-align: right;\">\n",
       "      <th></th>\n",
       "      <th>sepal_len</th>\n",
       "      <th>sepal_wid</th>\n",
       "      <th>petal_len</th>\n",
       "      <th>petal_wid</th>\n",
       "    </tr>\n",
       "  </thead>\n",
       "  <tbody>\n",
       "    <tr>\n",
       "      <th>0</th>\n",
       "      <td>5.7</td>\n",
       "      <td>4.4</td>\n",
       "      <td>1.5</td>\n",
       "      <td>0.4</td>\n",
       "    </tr>\n",
       "    <tr>\n",
       "      <th>1</th>\n",
       "      <td>5.5</td>\n",
       "      <td>4.2</td>\n",
       "      <td>1.4</td>\n",
       "      <td>0.2</td>\n",
       "    </tr>\n",
       "    <tr>\n",
       "      <th>2</th>\n",
       "      <td>5.2</td>\n",
       "      <td>4.1</td>\n",
       "      <td>1.5</td>\n",
       "      <td>0.1</td>\n",
       "    </tr>\n",
       "    <tr>\n",
       "      <th>3</th>\n",
       "      <td>5.8</td>\n",
       "      <td>4.0</td>\n",
       "      <td>1.2</td>\n",
       "      <td>0.2</td>\n",
       "    </tr>\n",
       "    <tr>\n",
       "      <th>4</th>\n",
       "      <td>5.4</td>\n",
       "      <td>3.9</td>\n",
       "      <td>1.7</td>\n",
       "      <td>0.4</td>\n",
       "    </tr>\n",
       "    <tr>\n",
       "      <th>...</th>\n",
       "      <td>...</td>\n",
       "      <td>...</td>\n",
       "      <td>...</td>\n",
       "      <td>...</td>\n",
       "    </tr>\n",
       "    <tr>\n",
       "      <th>145</th>\n",
       "      <td>4.5</td>\n",
       "      <td>2.3</td>\n",
       "      <td>1.3</td>\n",
       "      <td>0.3</td>\n",
       "    </tr>\n",
       "    <tr>\n",
       "      <th>146</th>\n",
       "      <td>6.0</td>\n",
       "      <td>2.2</td>\n",
       "      <td>5.0</td>\n",
       "      <td>1.5</td>\n",
       "    </tr>\n",
       "    <tr>\n",
       "      <th>147</th>\n",
       "      <td>6.2</td>\n",
       "      <td>2.2</td>\n",
       "      <td>4.5</td>\n",
       "      <td>1.5</td>\n",
       "    </tr>\n",
       "    <tr>\n",
       "      <th>148</th>\n",
       "      <td>6.0</td>\n",
       "      <td>2.2</td>\n",
       "      <td>4.0</td>\n",
       "      <td>1.0</td>\n",
       "    </tr>\n",
       "    <tr>\n",
       "      <th>149</th>\n",
       "      <td>5.0</td>\n",
       "      <td>2.0</td>\n",
       "      <td>3.5</td>\n",
       "      <td>1.0</td>\n",
       "    </tr>\n",
       "  </tbody>\n",
       "</table>\n",
       "<p>150 rows × 4 columns</p>\n",
       "</div>"
      ],
      "text/plain": [
       "     sepal_len  sepal_wid  petal_len  petal_wid\n",
       "0          5.7        4.4        1.5        0.4\n",
       "1          5.5        4.2        1.4        0.2\n",
       "2          5.2        4.1        1.5        0.1\n",
       "3          5.8        4.0        1.2        0.2\n",
       "4          5.4        3.9        1.7        0.4\n",
       "..         ...        ...        ...        ...\n",
       "145        4.5        2.3        1.3        0.3\n",
       "146        6.0        2.2        5.0        1.5\n",
       "147        6.2        2.2        4.5        1.5\n",
       "148        6.0        2.2        4.0        1.0\n",
       "149        5.0        2.0        3.5        1.0\n",
       "\n",
       "[150 rows x 4 columns]"
      ]
     },
     "execution_count": 18,
     "metadata": {},
     "output_type": "execute_result"
    }
   ],
   "source": [
    "data = pd.read_csv(\"1601384279_9602122_iris_new_data.txt\", sep=' ', names=['sepal_len','sepal_wid','petal_len','petal_wid'])\n",
    "data"
   ]
  },
  {
   "cell_type": "code",
   "execution_count": 19,
   "metadata": {
    "scrolled": true
   },
   "outputs": [
    {
     "data": {
      "text/plain": [
       "sepal_len    0\n",
       "sepal_wid    0\n",
       "petal_len    0\n",
       "petal_wid    0\n",
       "dtype: int64"
      ]
     },
     "execution_count": 19,
     "metadata": {},
     "output_type": "execute_result"
    }
   ],
   "source": [
    "data.isnull().sum()"
   ]
  },
  {
   "cell_type": "code",
   "execution_count": 20,
   "metadata": {},
   "outputs": [],
   "source": [
    "# normalization\n",
    "def normalize(df):\n",
    "    result = df.copy()\n",
    "    for feature_name in df.columns:\n",
    "        max_value = df[feature_name].max()\n",
    "        min_value = df[feature_name].min()\n",
    "        result[feature_name] = (df[feature_name] - min_value) / (max_value - min_value)\n",
    "    return result"
   ]
  },
  {
   "cell_type": "code",
   "execution_count": 21,
   "metadata": {},
   "outputs": [
    {
     "data": {
      "text/plain": [
       "sepal_len    0.416667\n",
       "sepal_wid    0.833333\n",
       "petal_len    0.033898\n",
       "petal_wid    0.041667\n",
       "Name: 3, dtype: float64"
      ]
     },
     "execution_count": 21,
     "metadata": {},
     "output_type": "execute_result"
    }
   ],
   "source": [
    "data = normalize(data)\n",
    "data.iloc[3]"
   ]
  },
  {
   "cell_type": "code",
   "execution_count": 22,
   "metadata": {},
   "outputs": [],
   "source": [
    "from sklearn.metrics.pairwise import euclidean_distances"
   ]
  },
  {
   "cell_type": "code",
   "execution_count": 23,
   "metadata": {},
   "outputs": [],
   "source": [
    "def initialize_centroids(data, k):\n",
    "    # no of attributes\n",
    "    n = np.shape(data)[1]    \n",
    "    # initialize centroids as zero matrices    \n",
    "    centroids = np.mat(np.zeros((k,n)))    \n",
    "    # choose random centroids\n",
    "#     for j in range(k):\n",
    "#         centroids[j,:] = data.iloc[np.random.randint(np.shape(data)[0])]\n",
    "\n",
    "#     initialize one random centroid\n",
    "    centroids[0,:] = data.iloc[np.random.randint(np.shape(data)[0])]\n",
    "\n",
    "    dist_euc = euclidean_distances(centroids[0,:], data)\n",
    "    indexes = np.argsort(dist_euc)\n",
    "    print(type(indexes))\n",
    "    \n",
    "    print(data.iloc[indexes[0,-1]])\n",
    "    centroids[1,:] = data.iloc[indexes[0,-1]]\n",
    "    centroids[2,:] = data.iloc[indexes[0,-2]]\n",
    "        \n",
    "    return centroids"
   ]
  },
  {
   "cell_type": "code",
   "execution_count": 24,
   "metadata": {},
   "outputs": [
    {
     "name": "stdout",
     "output_type": "stream",
     "text": [
      "<class 'numpy.ndarray'>\n",
      "sepal_len    0.000000\n",
      "sepal_wid    0.416667\n",
      "petal_len    0.016949\n",
      "petal_wid    0.000000\n",
      "Name: 92, dtype: float64\n"
     ]
    },
    {
     "data": {
      "text/plain": [
       "matrix([[0.72222222, 0.45833333, 0.69491525, 0.91666667],\n",
       "        [0.        , 0.41666667, 0.01694915, 0.        ],\n",
       "        [0.08333333, 0.66666667, 0.        , 0.04166667]])"
      ]
     },
     "execution_count": 24,
     "metadata": {},
     "output_type": "execute_result"
    }
   ],
   "source": [
    "init_centroids = initialize_centroids(data, k=3)\n",
    "init_centroids"
   ]
  },
  {
   "cell_type": "code",
   "execution_count": 25,
   "metadata": {},
   "outputs": [],
   "source": [
    "import scipy.spatial.distance as metric"
   ]
  },
  {
   "cell_type": "code",
   "execution_count": 26,
   "metadata": {},
   "outputs": [],
   "source": [
    "def euclidean_dist(A, B):\n",
    "    \n",
    "    return metric.euclidean(A, B)"
   ]
  },
  {
   "cell_type": "code",
   "execution_count": 27,
   "metadata": {},
   "outputs": [
    {
     "data": {
      "text/plain": [
       "1.350280290238991"
      ]
     },
     "execution_count": 27,
     "metadata": {},
     "output_type": "execute_result"
    }
   ],
   "source": [
    "euclidean_dist(init_centroids[0], init_centroids[1])"
   ]
  },
  {
   "cell_type": "code",
   "execution_count": 28,
   "metadata": {},
   "outputs": [],
   "source": [
    "def cluster(data, k):\n",
    "\n",
    "    # Number of rows in dataset\n",
    "    m = np.shape(data)[0]\n",
    "\n",
    "    # Hold the instance cluster assignments\n",
    "    cluster_assignments = np.mat(np.zeros((m, 2)))\n",
    "\n",
    "    # Initialize centroids\n",
    "    cents = initialize_centroids(data, k)\n",
    "    \n",
    "    # Preserve original centroids\n",
    "    cents_orig = cents.copy()\n",
    "    \n",
    "    changed = True\n",
    "    num_iter = 0\n",
    "\n",
    "    # Loop until no changes to cluster assignments\n",
    "    while changed:\n",
    "\n",
    "        changed = False\n",
    "\n",
    "        # For every instance (row in dataset)\n",
    "        for i in range(m):\n",
    "\n",
    "            # Track minimum distance, and vector index of associated cluster\n",
    "            min_dist = np.inf\n",
    "            min_index = -1\n",
    "\n",
    "            # Calculate distances\n",
    "            for j in range(k):\n",
    "\n",
    "                dist_ji = euclidean_dist(cents[j,:], data.iloc[i,:])\n",
    "                if dist_ji < min_dist:\n",
    "                    min_dist = dist_ji\n",
    "                    min_index = j\n",
    "\n",
    "            # Check if cluster assignment of instance has changed\n",
    "            if cluster_assignments[i, 0] != min_index: \n",
    "                changed = True\n",
    "\n",
    "            # Assign instance to appropriate cluster\n",
    "            cluster_assignments[i, :] = min_index, min_dist**2\n",
    "\n",
    "        # Update centroid location\n",
    "        for p in range(k):\n",
    "            indices = [i for i, x in enumerate(cluster_assignments) if x[0,0] == int(p)]\n",
    "            cents[p] = np.mean(data.iloc[indices], axis=0)\n",
    "            \n",
    "        \n",
    "        # Count iterations\n",
    "        num_iter += 1\n",
    "        print(cents)\n",
    "    \n",
    "#     print(type(cluster_assignments[0,0]))\n",
    "#     print(cluster_assignments.shape)\n",
    "#     print(cluster_assignments[:,0])\n",
    "\n",
    "    # Return important stuff when done\n",
    "    return cents, cluster_assignments, num_iter, cents_orig"
   ]
  },
  {
   "cell_type": "code",
   "execution_count": 29,
   "metadata": {
    "scrolled": false
   },
   "outputs": [
    {
     "name": "stdout",
     "output_type": "stream",
     "text": [
      "<class 'numpy.ndarray'>\n",
      "sepal_len    0.944444\n",
      "sepal_wid    0.250000\n",
      "petal_len    1.000000\n",
      "petal_wid    0.916667\n",
      "Name: 126, dtype: float64\n",
      "[[0.24603175 0.4745671  0.22650231 0.20238095]\n",
      " [0.60309829 0.34375    0.71414602 0.70512821]\n",
      " [0.66666667 0.54563492 0.7409201  0.78174603]]\n",
      "[[0.21296296 0.525      0.13813559 0.11666667]\n",
      " [0.50268817 0.32997312 0.63504647 0.61155914]\n",
      " [0.72718254 0.49702381 0.80266344 0.84821429]]\n",
      "[[0.19611111 0.59083333 0.07864407 0.06      ]\n",
      " [0.45996732 0.31372549 0.58973081 0.56495098]\n",
      " [0.72569444 0.46875    0.81567797 0.8515625 ]]\n",
      "[[0.19611111 0.59083333 0.07864407 0.06      ]\n",
      " [0.45269097 0.3125     0.58024364 0.55273438]\n",
      " [0.70910494 0.4537037  0.80743879 0.84143519]]\n",
      "[[0.19611111 0.59083333 0.07864407 0.06      ]\n",
      " [0.44623656 0.31048387 0.57654456 0.54905914]\n",
      " [0.70614035 0.4495614  0.8015165  0.83223684]]\n",
      "[[0.19611111 0.59083333 0.07864407 0.06      ]\n",
      " [0.44125683 0.30737705 0.57571548 0.54918033]\n",
      " [0.70726496 0.4508547  0.79704476 0.82478632]]\n",
      "[[0.19611111 0.59083333 0.07864407 0.06      ]\n",
      " [0.44125683 0.30737705 0.57571548 0.54918033]\n",
      " [0.70726496 0.4508547  0.79704476 0.82478632]]\n"
     ]
    },
    {
     "data": {
      "text/plain": [
       "array([1, 1, 1, 1, 1, 1, 3, 3, 1, 1, 1, 1, 1, 1, 1, 3, 1, 1, 1, 1, 1, 1,\n",
       "       1, 1, 3, 3, 2, 1, 1, 1, 1, 1, 1, 1, 1, 1, 3, 3, 3, 2, 1, 1, 3, 3,\n",
       "       3, 3, 3, 2, 3, 2, 1, 1, 1, 1, 1, 3, 3, 3, 3, 3, 2, 2, 1, 1, 1, 1,\n",
       "       1, 3, 3, 3, 3, 3, 3, 3, 3, 3, 2, 3, 2, 2, 2, 2, 2, 2, 2, 2, 2, 1,\n",
       "       1, 1, 1, 1, 1, 3, 3, 2, 2, 2, 2, 2, 2, 2, 1, 3, 3, 3, 3, 3, 2, 2,\n",
       "       2, 2, 2, 2, 2, 2, 2, 3, 2, 2, 2, 2, 2, 2, 2, 2, 3, 2, 2, 2, 2, 3,\n",
       "       2, 2, 2, 2, 2, 2, 2, 2, 2, 2, 2, 2, 2, 1, 2, 2, 2, 2])"
      ]
     },
     "execution_count": 29,
     "metadata": {},
     "output_type": "execute_result"
    }
   ],
   "source": [
    "final_centroids, cluster_ass, iterno, original_centroids = cluster(data, k=3)\n",
    "array = np.squeeze(np.asarray(cluster_ass[:,0])).astype(np.int64) + 1\n",
    "array"
   ]
  },
  {
   "cell_type": "code",
   "execution_count": 30,
   "metadata": {},
   "outputs": [],
   "source": [
    "ans = array.copy()"
   ]
  },
  {
   "cell_type": "code",
   "execution_count": 31,
   "metadata": {},
   "outputs": [],
   "source": [
    "#             print(indices)\n",
    "#             centroid_test = np.mean(data[indices], axis = 1)\n",
    "#             print(centroid_test)"
   ]
  },
  {
   "cell_type": "code",
   "execution_count": 32,
   "metadata": {},
   "outputs": [
    {
     "data": {
      "text/plain": [
       "array([1, 1, 1, 1, 1, 1, 3, 3, 1, 1, 1, 1, 1, 1, 1, 3, 1, 1, 1, 1, 1, 1,\n",
       "       1, 1, 3, 3, 2, 1, 1, 1, 1, 1, 1, 1, 1, 1, 3, 3, 3, 2, 1, 1, 3, 3,\n",
       "       3, 3, 3, 2, 3, 2, 1, 1, 1, 1, 1, 3, 3, 3, 3, 3, 2, 2, 1, 1, 1, 1,\n",
       "       1, 3, 3, 3, 3, 3, 3, 3, 3, 3, 2, 3, 2, 2, 2, 2, 2, 2, 2, 2, 2, 1,\n",
       "       1, 1, 1, 1, 1, 3, 3, 2, 2, 2, 2, 2, 2, 2, 1, 3, 3, 3, 3, 3, 2, 2,\n",
       "       2, 2, 2, 2, 2, 2, 2, 3, 2, 2, 2, 2, 2, 2, 2, 2, 3, 2, 2, 2, 2, 3,\n",
       "       2, 2, 2, 2, 2, 2, 2, 2, 2, 2, 2, 2, 2, 1, 2, 2, 2, 2])"
      ]
     },
     "execution_count": 32,
     "metadata": {},
     "output_type": "execute_result"
    }
   ],
   "source": [
    "ans"
   ]
  },
  {
   "cell_type": "code",
   "execution_count": null,
   "metadata": {},
   "outputs": [],
   "source": []
  },
  {
   "cell_type": "code",
   "execution_count": null,
   "metadata": {},
   "outputs": [],
   "source": [
    "from sklearn.cluster import KMeans\n",
    "model = KMeans(n_clusters=3, random_state=101, algorithm='full')\n",
    "ans = model.fit_predict(data)\n",
    "print(ans)"
   ]
  },
  {
   "cell_type": "code",
   "execution_count": null,
   "metadata": {
    "scrolled": false
   },
   "outputs": [],
   "source": [
    "model.inertia_"
   ]
  },
  {
   "cell_type": "code",
   "execution_count": null,
   "metadata": {},
   "outputs": [],
   "source": [
    "# to adjust the label size\n",
    "ans = ans + 1"
   ]
  },
  {
   "cell_type": "code",
   "execution_count": 33,
   "metadata": {},
   "outputs": [
    {
     "data": {
      "text/plain": [
       "array([1, 1, 1, 1, 1, 1, 3, 3, 1, 1, 1, 1, 1, 1, 1, 3, 1, 1, 1, 1, 1, 1,\n",
       "       1, 1, 3, 3, 2, 1, 1, 1, 1, 1, 1, 1, 1, 1, 3, 3, 3, 2, 1, 1, 3, 3,\n",
       "       3, 3, 3, 2, 3, 2, 1, 1, 1, 1, 1, 3, 3, 3, 3, 3, 2, 2, 1, 1, 1, 1,\n",
       "       1, 3, 3, 3, 3, 3, 3, 3, 3, 3, 2, 3, 2, 2, 2, 2, 2, 2, 2, 2, 2, 1,\n",
       "       1, 1, 1, 1, 1, 3, 3, 2, 2, 2, 2, 2, 2, 2, 1, 3, 3, 3, 3, 3, 2, 2,\n",
       "       2, 2, 2, 2, 2, 2, 2, 3, 2, 2, 2, 2, 2, 2, 2, 2, 3, 2, 2, 2, 2, 3,\n",
       "       2, 2, 2, 2, 2, 2, 2, 2, 2, 2, 2, 2, 2, 1, 2, 2, 2, 2])"
      ]
     },
     "execution_count": 33,
     "metadata": {},
     "output_type": "execute_result"
    }
   ],
   "source": [
    "ans"
   ]
  },
  {
   "cell_type": "code",
   "execution_count": 34,
   "metadata": {},
   "outputs": [
    {
     "data": {
      "text/plain": [
       "150"
      ]
     },
     "execution_count": 34,
     "metadata": {},
     "output_type": "execute_result"
    }
   ],
   "source": [
    "len(ans)"
   ]
  },
  {
   "cell_type": "code",
   "execution_count": 36,
   "metadata": {},
   "outputs": [
    {
     "name": "stdout",
     "output_type": "stream",
     "text": [
      "Wrote 150 items successfully to iris_pred_values.txt\n"
     ]
    }
   ],
   "source": [
    "with open('iris_pred_values.txt', 'w') as filehandle:\n",
    "    for listitem in ans:\n",
    "        filehandle.write('%s\\n' % listitem)\n",
    "    print(\"Wrote\",len(ans),\"items successfully to iris_pred_values.txt\")"
   ]
  },
  {
   "cell_type": "code",
   "execution_count": null,
   "metadata": {},
   "outputs": [],
   "source": []
  }
 ],
 "metadata": {
  "kernelspec": {
   "display_name": "Python 3",
   "language": "python",
   "name": "python3"
  },
  "language_info": {
   "codemirror_mode": {
    "name": "ipython",
    "version": 3
   },
   "file_extension": ".py",
   "mimetype": "text/x-python",
   "name": "python",
   "nbconvert_exporter": "python",
   "pygments_lexer": "ipython3",
   "version": "3.8.3"
  }
 },
 "nbformat": 4,
 "nbformat_minor": 4
}
